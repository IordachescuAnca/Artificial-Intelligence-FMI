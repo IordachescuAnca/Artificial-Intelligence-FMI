{
  "nbformat": 4,
  "nbformat_minor": 0,
  "metadata": {
    "colab": {
      "provenance": [],
      "collapsed_sections": []
    },
    "kernelspec": {
      "name": "python3",
      "display_name": "Python 3"
    },
    "language_info": {
      "name": "python"
    }
  },
  "cells": [
    {
      "cell_type": "code",
      "execution_count": null,
      "metadata": {
        "colab": {
          "base_uri": "https://localhost:8080/"
        },
        "id": "FSSxpRdJbUY-",
        "outputId": "0c6bd917-fa73-44a0-d905-f5174134a10b"
      },
      "outputs": [
        {
          "output_type": "stream",
          "name": "stdout",
          "text": [
            "[nltk_data] Downloading package senseval to /root/nltk_data...\n",
            "[nltk_data]   Unzipping corpora/senseval.zip.\n",
            "[nltk_data] Downloading package stopwords to /root/nltk_data...\n",
            "[nltk_data]   Unzipping corpora/stopwords.zip.\n"
          ]
        }
      ],
      "source": [
        "import nltk\n",
        "import numpy as np\n",
        "nltk.download('senseval')\n",
        "nltk.download('stopwords')\n",
        "from nltk.corpus import senseval\n",
        "from sklearn.metrics import accuracy_score\n",
        "from sklearn.metrics import confusion_matrix\n",
        "import random\n",
        "from nltk.classify import accuracy, NaiveBayesClassifier, MaxentClassifier\n",
        "from collections import defaultdict"
      ]
    },
    {
      "cell_type": "code",
      "source": [
        "def extract_vocab_frequency(instances, stopwords=[], n=300):\n",
        "    fd = nltk.FreqDist()\n",
        "    for i in instances:\n",
        "        (target, suffix) = i.word.split('-')\n",
        "        words = (c[0] for c in i.context if not c[0] == target)\n",
        "        for word in set(words) - set(stopwords):\n",
        "            fd[word] += 1\n",
        "    return fd.most_common()[:n+1]"
      ],
      "metadata": {
        "id": "RqtPe6rGbk0z"
      },
      "execution_count": null,
      "outputs": []
    },
    {
      "cell_type": "code",
      "source": [
        "def extract_vocab(instances, stopwords=[], n=300):\n",
        "    return [w for w,f in extract_vocab_frequency(instances,stopwords,n)]"
      ],
      "metadata": {
        "id": "pAq6RIWVbrzO"
      },
      "execution_count": null,
      "outputs": []
    },
    {
      "cell_type": "code",
      "source": [
        "def wsd_context_features(instance, vocab, dist=3):\n",
        "    '''Extract context features (words) of a instance given a distance'''\n",
        "    features = {}\n",
        "    ind = instance.position\n",
        "    con = instance.context\n",
        "    for i in range(max(0, ind-dist), ind):\n",
        "        j = ind-i\n",
        "        features[con[i][0]] = True\n",
        "\n",
        "    for i in range(ind+1, min(ind+dist+1, len(con))):\n",
        "        j = i-ind\n",
        "        features[con[i][0]] = True\n",
        "\n",
        "    return features"
      ],
      "metadata": {
        "id": "_cQ-Pksgbv1u"
      },
      "execution_count": null,
      "outputs": []
    },
    {
      "cell_type": "code",
      "source": [
        "def wsd_context_features_pos(instance, vocab, dist=3):\n",
        "    '''Extract context features (words and parts of speech) of a instance given a distance'''\n",
        "    features = {}\n",
        "    ind = instance.position\n",
        "    con = instance.context\n",
        "    for i in range(max(0, ind-dist), ind):\n",
        "        j = ind-i\n",
        "        features[con[i][0]] = con[i][1]\n",
        "\n",
        "    for i in range(ind+1, min(ind+dist+1, len(con))):\n",
        "        j = i-ind\n",
        "        features[con[i][0]] = con[i][1]\n",
        "\n",
        "    return features"
      ],
      "metadata": {
        "id": "_5FsDDPZAfc9"
      },
      "execution_count": null,
      "outputs": []
    },
    {
      "cell_type": "code",
      "source": [
        "def get_sk(instances):\n",
        "  '''Calculate alphas as p(sk) as number of occurences of sense sk divided by number of occurences of any sense sk'''\n",
        "  labels = [i[1] for i in instances]\n",
        "  senses = set(labels)\n",
        "  occ = {}\n",
        "  for sense in senses:\n",
        "    occ[sense] = 0.0\n",
        "  \n",
        "  for label in labels:\n",
        "    occ[label] += 1\n",
        "   \n",
        "  total = len(labels)\n",
        "  for sense in senses:\n",
        "    occ[sense] = float(occ[sense]/total)\n",
        "\n",
        "  return occ"
      ],
      "metadata": {
        "id": "dqpGlYqMb01R"
      },
      "execution_count": null,
      "outputs": []
    },
    {
      "cell_type": "code",
      "source": [
        "def theta_k_j(training_data, v, sk, unique_labels, vocab, window_number):\n",
        "  '''Calculate theta_k_j as number of occurences of each context feature that consists in a word in a context of sense sk divided by number of occurences of each context feature in a context of any sense sk'''\n",
        "  occ = {}\n",
        "  for vj in v:\n",
        "    occ[vj] = 0\n",
        "  \n",
        "  for i in training_data:\n",
        "    if sk == i[1]:\n",
        "      words = wsd_context_features(i[0], vocab, window_number)\n",
        "      for word in words:\n",
        "        if word in occ:\n",
        "          occ[word] += 1\n",
        "      \n",
        "\n",
        "  occ_total = {}\n",
        "  for vj in v:\n",
        "    occ_total[vj] = 0\n",
        "  \n",
        "  for i in training_data:\n",
        "    words =  wsd_context_features(i[0], vocab, window_number)\n",
        "    for word in words:\n",
        "      if word in occ_total:\n",
        "        occ_total[word] += 1\n",
        "  \n",
        "\n",
        "  #applied laplacian smoothing to each probability term\n",
        "  res = {}\n",
        "  for feature in occ:\n",
        "    res[feature] = (1 + occ[feature])/(len(unique_labels) + occ_total[feature])\n",
        "  \n",
        "\n",
        "  return res"
      ],
      "metadata": {
        "id": "O2hT3Dimb7a7"
      },
      "execution_count": null,
      "outputs": []
    },
    {
      "cell_type": "code",
      "source": [
        "def theta_k_j_pos(training_data, v, sk, unique_labels, vocab, window_number):\n",
        "  '''Calculate theta_k_j as number of occurences of each context feature that consists in the word and pos in a context of sense sk divided by number of occurences of each context feature in a context of any sense sk'''\n",
        "  occ = {}\n",
        "  for vj in v:\n",
        "    occ[(vj, v[vj])] = 0\n",
        "\n",
        "  for i in training_data:\n",
        "    if sk == i[1]:\n",
        "      words = wsd_context_features_pos(i[0], vocab, window_number)\n",
        "      for word in words:\n",
        "        if (word, words[word]) in occ:\n",
        "          occ[(word, words[word])] += 1\n",
        "\n",
        "\n",
        "  occ_total = {}\n",
        "  for vj in v:\n",
        "    occ_total[vj, v[vj]] = 0\n",
        "  \n",
        "  for i in training_data:\n",
        "    words =  wsd_context_features_pos(i[0], vocab, window_number)\n",
        "    for word in words:\n",
        "      if (word, words[word]) in occ_total:\n",
        "        occ_total[(word, words[word])] += 1\n",
        "  \n",
        "\n",
        "  res = {}\n",
        "  for feature in occ:\n",
        "    res[feature] = (1 + occ[feature])/(len(unique_labels) + occ_total[feature])\n",
        "  \n",
        "  return res"
      ],
      "metadata": {
        "id": "w_PiqGObAo5b"
      },
      "execution_count": null,
      "outputs": []
    },
    {
      "cell_type": "code",
      "source": [
        "def train_NB(instances, stopwords_list, training_data, test_data, unique_labels, vocab_n, windows_n):\n",
        "  #extract the vocabulary based on instances\n",
        "  vocab = extract_vocab(instances, stopwords=stopwords_list, n=vocab_n)\n",
        "  sk = get_sk(training_data)\n",
        "  predicted_labels = []\n",
        "  true_labels = []\n",
        "  for i in test_data:\n",
        "    instance = i[0]\n",
        "    true_label = i[1]\n",
        "    #get the context features of each test data \n",
        "    features = wsd_context_features(instance, vocab, windows_n)\n",
        "    p = []\n",
        "    #calculate each probability p(sk/context) \n",
        "    for label in unique_labels:\n",
        "      thetas = theta_k_j(training_data, features, label, unique_labels, vocab, windows_n)\n",
        "      p_c_s = sk[label]\n",
        "      for feature in thetas:\n",
        "        p_c_s = p_c_s * thetas[feature]\n",
        "          \n",
        "      p.append(p_c_s)\n",
        "    #the predicted label will be the one that got the maximum value for the probability p(sk/context)\n",
        "    predicted_labels.append(unique_labels[np.argmax(p)])\n",
        "    true_labels.append(true_label)\n",
        "  \n",
        "  #return the true and predicted labels\n",
        "  return predicted_labels, true_labels"
      ],
      "metadata": {
        "id": "ozBvUIjif43F"
      },
      "execution_count": null,
      "outputs": []
    },
    {
      "cell_type": "code",
      "source": [
        "def train_NB_pos(instances, stopwords_list, training_data, test_data, unique_labels, vocab_n, windows_n):\n",
        "  #extract the vocabulary based on instances\n",
        "  vocab = extract_vocab(instances, stopwords=stopwords_list, n=vocab_n)\n",
        "  sk = get_sk(training_data)\n",
        "  predicted_labels = []\n",
        "  true_labels = []\n",
        "  for i in test_data:\n",
        "    instance = i[0]\n",
        "    true_label = i[1]\n",
        "    #get the context features of each test data including pos tagging\n",
        "    features = wsd_context_features_pos(instance, vocab, windows_n)\n",
        "    p = []\n",
        "    #calculate each probability p(sk/context) \n",
        "    for label in unique_labels:\n",
        "      thetas = theta_k_j(training_data, features, label, unique_labels, vocab, windows_n)\n",
        "      p_c_s = sk[label]\n",
        "      for feature in thetas:\n",
        "        p_c_s = p_c_s * thetas[feature]\n",
        "          \n",
        "      p.append(p_c_s)\n",
        "    #the predicted label will be the one that got the maximum value for the probability p(sk/context)\n",
        "    predicted_labels.append(unique_labels[np.argmax(p)])\n",
        "    true_labels.append(true_label)\n",
        "  \n",
        "  #return the true and predicted labels\n",
        "  return predicted_labels, true_labels"
      ],
      "metadata": {
        "id": "JnjnBy-9A7A1"
      },
      "execution_count": null,
      "outputs": []
    },
    {
      "cell_type": "code",
      "source": [
        "def training_testing(word):\n",
        "  #get the senses and instances\n",
        "  senses = []\n",
        "  instances = []\n",
        "  for i in senseval.instances(word):\n",
        "    senses.append((i, i.senses[0]))\n",
        "    instances.append(i)\n",
        "\n",
        "  #get the stopwords list in order to use for vocab extract\n",
        "  stopwords_list = nltk.corpus.stopwords.words('english')\n",
        "  #get the unique labels\n",
        "  unique_labels = list(set([l for (i, l) in senses]))\n",
        "  print(\"Labels: {}\".format(unique_labels))\n",
        "\n",
        "  random.seed(334)\n",
        "  random.shuffle(senses)\n",
        "  n = len(senses)\n",
        "  #split the data in: 60% training, 20% validation, 20% testing\n",
        "  training_data = senses[:int(0.6 * n)]\n",
        "  validation_data = senses[int(0.6 * n):int(0.8 * n)]\n",
        "  test_data = senses[int(0.8 * n):n]\n",
        "\n",
        "  #different values for hypertuning the model\n",
        "  window_numbers = [2,3,4]\n",
        "  vocab_numbers = [200, 300]\n",
        "\n",
        "  best_param_window = 2\n",
        "  best_param_vocab = 200\n",
        "  best_acc = 0\n",
        "\n",
        "  #try different combinations for the window and vocab to achieve the best NB model and use the best parameters to train and test the model using testing data\n",
        "  print(\"Validation...\")\n",
        "  for windows_n in window_numbers:\n",
        "    for vocab_n in vocab_numbers:\n",
        "      predicted_labels, true_labels = train_NB(instances, stopwords_list, training_data, validation_data, unique_labels, vocab_n, windows_n)\n",
        "\n",
        "      \n",
        "      print(\"Window size: {}, Vocab size: {}, Validation Accuracy: {}\".format(windows_n, vocab_n, accuracy_score(true_labels, predicted_labels)))\n",
        "      if accuracy_score(true_labels, predicted_labels) > best_acc:\n",
        "        best_acc = accuracy_score(true_labels, predicted_labels)\n",
        "        best_param_window = windows_n\n",
        "        best_param_vocab = vocab_n\n",
        "\n",
        "\n",
        "  #best params used for testing\n",
        "  print(\"Best param: window: {}, vocab: {}\".format(best_param_window, best_param_vocab))\n",
        "  print(\"Testing...\")\n",
        "  predicted_labels, true_labels = train_NB(instances, stopwords_list, training_data, test_data, unique_labels, best_param_vocab, best_param_window)\n",
        "\n",
        "  print(\"Accuracy: {}\".format(accuracy_score(true_labels, predicted_labels)))\n",
        "  print(\"Confusion matrix:\")\n",
        "  print(confusion_matrix(true_labels, predicted_labels))\n",
        "  examples = 0\n",
        "  #print different types of errors\n",
        "  print(\"Examples of errors\")\n",
        "  for i in range(len(true_labels)):\n",
        "    if true_labels[i] != predicted_labels[i]:\n",
        "      print(test_data[i][0])\n",
        "      print(\"True: {}, Predicted: {}\".format(true_labels[i], predicted_labels[i]))\n",
        "      examples += 1\n",
        "    if examples == 10:\n",
        "      break"
      ],
      "metadata": {
        "id": "Ni06vY2kb_nA"
      },
      "execution_count": null,
      "outputs": []
    },
    {
      "cell_type": "code",
      "source": [
        "training_testing('hard.pos')"
      ],
      "metadata": {
        "colab": {
          "base_uri": "https://localhost:8080/"
        },
        "id": "QNs52aykddF7",
        "outputId": "81316f9d-2a85-4c5d-ef2a-0f73e590a484"
      },
      "execution_count": null,
      "outputs": [
        {
          "output_type": "stream",
          "name": "stdout",
          "text": [
            "Labels: ['HARD3', 'HARD1', 'HARD2']\n",
            "Validation...\n",
            "Window size: 2, Vocab size: 200, Validation Accuracy: 0.8327566320645905\n",
            "Window size: 2, Vocab size: 300, Validation Accuracy: 0.8327566320645905\n",
            "Window size: 3, Vocab size: 200, Validation Accuracy: 0.8166089965397924\n",
            "Window size: 3, Vocab size: 300, Validation Accuracy: 0.8166089965397924\n",
            "Window size: 4, Vocab size: 200, Validation Accuracy: 0.8143021914648212\n",
            "Window size: 4, Vocab size: 300, Validation Accuracy: 0.8143021914648212\n",
            "Best param: window: 2, vocab: 200\n",
            "Testing...\n",
            "Accuracy: 0.8362168396770473\n",
            "Confusion matrix:\n",
            "[[701   0   0]\n",
            " [ 73  20   0]\n",
            " [ 69   0   4]]\n",
            "Examples of errors\n",
            "SensevalInstance(word='hard-a', position=23, context=[('i', 'PRP'), ('liked', 'VBD'), ('the', 'DT'), ('low-fat', 'JJ'), ('(', '('), ('no', 'DT'), ('shortening', 'VBG'), ('but', 'CC'), ('with', 'IN'), ('nuts', 'NNS'), ('or', 'CC'), ('chocolate', 'NN'), (')', 'SYM'), ('better', 'JJR'), ('than', 'IN'), ('the', 'DT'), ('no-fat', 'JJ'), (',', ','), ('which', 'WDT'), ('i', 'PRP'), ('found', 'VBD'), ('dry', 'JJ'), ('and', 'CC'), ('hard', 'JJ'), ('.', '.')], senses=('HARD3',))\n",
            "True: HARD3, Predicted: HARD1\n",
            "SensevalInstance(word='hard-a', position=16, context=[('he', 'PRP'), ('was', 'VBD'), ('sidetracked', 'VBD'), ('by', 'IN'), ('his', 'PRP$'), ('first', 'JJ'), ('real', 'JJ'), ('love', 'NN'), (',', ','), ('fancy', 'JJ'), ('cars', 'NNS'), (',', ','), ('and', 'CC'), ('after', 'IN'), ('years', 'NNS'), ('of', 'IN'), ('hard', 'JJ'), ('work', 'NN'), ('found', 'VBD'), ('himself', 'PRP'), ('the', 'DT'), ('owner', 'NN'), ('of', 'IN'), ('a', 'DT'), ('chain', 'NN'), ('of', 'IN'), ('bay', 'NNP'), ('area', 'NNP'), ('auto', 'NN'), ('body', 'NN'), ('shops', 'NNS'), ('that', 'IN'), ('specialized', 'JJ'), ('in', 'IN'), ('bmws', 'NNS'), ('and', 'CC'), ('mercedes', 'NNP'), ('.', '.')], senses=('HARD2',))\n",
            "True: HARD2, Predicted: HARD1\n",
            "SensevalInstance(word='hard-a', position=3, context=[('the', 'DT'), ('seeds', 'NNS'), ('of', 'IN'), ('hard', 'JJ'), (',', ','), ('fibrous', 'JJ'), (',', ','), ('stony', 'JJ'), ('fruits', 'NNS'), (',', ','), ('called', 'VBN'), ('nuts', 'NNS'), (',', ','), ('provide', 'VB'), ('highly', 'RB'), ('concentrated', 'VBN'), ('foods', 'NNS'), (',', ','), ('oils', 'NNS'), (',', ','), ('and', 'CC'), ('other', 'JJ'), ('materials', 'NNS'), ('of', 'IN'), ('value', 'NN'), ('.', '.')], senses=('HARD3',))\n",
            "True: HARD3, Predicted: HARD1\n",
            "SensevalInstance(word='hard-a', position=6, context=[('``', '``'), ('that', 'DT'), (\"'s\", 'VBZ'), ('a', 'DT'), ('lot', 'NN'), ('of', 'IN'), ('hard', 'JJ'), ('earned', 'VBD'), ('money', 'NN'), ('to', 'TO'), ('lose', 'VB'), (\"''\", \"''\"), (',', ','), ('he', 'PRP'), ('says', 'VBZ'), ('today', 'NN'), ('.', '.')], senses=('HARD2',))\n",
            "True: HARD2, Predicted: HARD1\n",
            "SensevalInstance(word='hard-a', position=7, context=[('corrections', 'NNP'), ('counselor', 'NN'), ('ric', 'NNP'), ('hyland', 'NNP'), (',', ','), ('who', 'WP'), ('did', 'VBD'), ('hard', 'JJ'), ('time', 'NN'), ('for', 'IN'), ('armed', 'VBN'), ('robbery', 'NN'), ('25', 'CD'), ('years', 'NNS'), ('ago', 'RB'), (',', ','), ('stood', 'VBD'), ('shoulder', 'NN'), ('to', 'TO'), ('shoulder', 'VB'), ('with', 'IN'), ('the', 'DT'), ('31-year-old', 'JJ'), ('groom', 'NN'), (',', ','), ('whose', 'WP$'), ('criminal', 'JJ'), ('record', 'NN'), ('includes', 'VBZ'), ('42', 'CD'), ('misdemeanor', 'NN'), ('and', 'CC'), ('four', 'CD'), ('felony', 'NN'), ('convictions', 'NNS'), ('for', 'IN'), ('drug', 'NN'), ('and', 'CC'), ('alcohol', 'NN'), ('-', ':'), ('related', 'VBN'), ('crimes', 'NNS'), ('and', 'CC'), ('three', 'CD'), ('terms', 'NNS'), ('in', 'IN'), ('san', 'NNP'), ('quentin', 'NNP'), ('.', '.')], senses=('HARD2',))\n",
            "True: HARD2, Predicted: HARD1\n",
            "SensevalInstance(word='hard-a', position=26, context=[('she', 'PRP'), ('told', 'VBD'), ('of', 'IN'), ('a', 'DT'), ('friend', 'NN'), ('who', 'WP'), ('came', 'VBD'), ('to', 'TO'), ('her', 'PRP$'), ('two', 'CD'), ('days', 'NNS'), ('after', 'IN'), ('a', 'DT'), ('physical', 'JJ'), ('``', '``'), ('and', 'CC'), ('asked', 'VBD'), ('if', 'IN'), ('i', 'PRP'), (\"'d\", 'MD'), ('look', 'VB'), ('at', 'IN'), ('.', '.'), ('.', '.'), ('.', '.'), (\"'a\", 'NN'), ('hard', 'JJ'), ('place', 'NN'), (\"'\", 'POS'), ('\"', '\"'), ('on', 'IN'), ('the', 'DT'), ('side', 'NN'), ('of', 'IN'), ('her', 'PRP$'), ('breast', 'NN'), ('.', '.')], senses=('HARD3',))\n",
            "True: HARD3, Predicted: HARD1\n",
            "SensevalInstance(word='hard-a', position=7, context=[('the', 'DT'), ('basic', 'JJ'), ('rule', 'NN'), ('is', 'VBZ'), ('this', 'DT'), (':', ':'), ('the', 'DT'), ('harder', 'JJ'), ('the', 'DT'), ('material', 'NN'), ('and', 'CC'), ('the', 'DT'), ('larger', 'JJR'), ('the', 'DT'), ('drill', 'NN'), ('diameter', 'NN'), (',', ','), ('the', 'DT'), ('slower', 'JJR'), ('should', 'MD'), ('the', 'DT'), ('speed', 'NN'), ('be', 'VB'), ('.', '.')], senses=('HARD3',))\n",
            "True: HARD3, Predicted: HARD1\n",
            "SensevalInstance(word='hard-a', position=9, context=[('in', 'IN'), ('these', 'DT'), ('areas', 'NNS'), (',', ','), ('they', 'PRP'), ('say', 'VBP'), (',', ','), ('a', 'DT'), ('little', 'JJ'), ('hard', 'JJ'), ('work', 'NN'), ('can', 'MD'), ('truly', 'RB'), ('pay', 'VB'), ('off', 'IN'), ('when', 'WRB'), ('it', 'PRP'), ('comes', 'VBZ'), ('time', 'NN'), ('to', 'TO'), ('sell', 'VB'), ('.', '.')], senses=('HARD2',))\n",
            "True: HARD2, Predicted: HARD1\n",
            "SensevalInstance(word='hard-a', position=3, context=[('``', '``'), ('it', 'PRP'), ('was', 'VBD'), ('hard', 'JJ'), ('work', 'NN'), ('six', 'CD'), ('days', 'NNS'), ('a', 'DT'), ('week', 'NN'), (',', ','), ('but', 'CC'), ('it', 'PRP'), ('was', 'VBD'), ('a', 'DT'), ('great', 'JJ'), ('experience', 'NN'), ('and', 'CC'), ('opened', 'VBD'), ('doors', 'NNS'), ('for', 'IN'), ('me', 'PRP'), (',', ','), ('\"', '\"'), ('said', 'VBD'), ('the', 'DT'), ('modest', 'JJ'), (',', ','), ('soft-spoken', 'JJ'), ('lam', 'NNP'), ('.', '.')], senses=('HARD2',))\n",
            "True: HARD2, Predicted: HARD1\n",
            "SensevalInstance(word='hard-a', position=1, context=[('most', 'JJS'), ('hard', 'JJ'), ('cheeses', 'NNS'), ('are', 'VBP'), ('higher', 'JJR'), ('in', 'IN'), ('saturated', 'VBN'), ('fats', 'NNS'), ('than', 'IN'), ('meat', 'NN'), ('.', '.')], senses=('HARD3',))\n",
            "True: HARD3, Predicted: HARD1\n"
          ]
        }
      ]
    },
    {
      "cell_type": "code",
      "source": [
        "training_testing('interest.pos')"
      ],
      "metadata": {
        "colab": {
          "base_uri": "https://localhost:8080/"
        },
        "id": "56M6-kVUef_I",
        "outputId": "8b75e1ea-743b-4d90-bac2-811d0be093ae"
      },
      "execution_count": null,
      "outputs": [
        {
          "output_type": "stream",
          "name": "stdout",
          "text": [
            "Labels: ['interest_5', 'interest_4', 'interest_3', 'interest_2', 'interest_1', 'interest_6']\n",
            "Validation...\n",
            "Window size: 2, Vocab size: 200, Validation Accuracy: 0.7025316455696202\n",
            "Window size: 2, Vocab size: 300, Validation Accuracy: 0.7025316455696202\n",
            "Window size: 3, Vocab size: 200, Validation Accuracy: 0.6624472573839663\n",
            "Window size: 3, Vocab size: 300, Validation Accuracy: 0.6624472573839663\n",
            "Window size: 4, Vocab size: 200, Validation Accuracy: 0.6561181434599156\n",
            "Window size: 4, Vocab size: 300, Validation Accuracy: 0.6561181434599156\n",
            "Best param: window: 2, vocab: 200\n",
            "Testing...\n",
            "Accuracy: 0.6751054852320675\n",
            "Confusion matrix:\n",
            "[[ 21   0   0   0   4  46]\n",
            " [  0   0   0   0   0   4]\n",
            " [  0   0   0   0   0   8]\n",
            " [  0   0   0   1   1  39]\n",
            " [  2   0   0   0  69  49]\n",
            " [  1   0   0   0   0 229]]\n",
            "Examples of errors\n",
            "SensevalInstance(word='interest-n', position=10, context=[('smithkline', 'NN'), ('is', 'VBZ'), ('n', 'NN'), (\"'t\", 'VBG'), ('the', 'DT'), ('only', 'JJ'), ('company', 'NN'), ('to', 'TO'), ('exploit', 'VB'), ('congressional', 'JJ'), ('interest', 'NN'), ('in', 'IN'), ('bolar', 'NN'), ('.', '.')], senses=('interest_1',))\n",
            "True: interest_1, Predicted: interest_6\n",
            "SensevalInstance(word='interest-n', position=18, context=[('and', 'CC'), ('the', 'DT'), ('treasury', 'NN'), (\"'s\", 'POS'), ('$', '$'), ('17', 'CD'), ('.', '.'), ('6', 'CD'), ('billion', 'CD'), ('auction', 'NN'), ('of', 'IN'), ('short-term', 'JJ'), ('bills', 'NNS'), (',', ','), ('which', 'WDT'), ('generated', 'VBD'), ('strong', 'JJ'), ('buying', 'NN'), ('interest', 'NN'), (',', ','), ('helped', 'VBD'), ('to', 'TO'), ('lift', 'VB'), ('the', 'DT'), ('bond', 'NN'), ('market', 'NN'), ('out', 'IN'), ('of', 'IN'), ('the', 'DT'), ('doldrums', 'NNS'), ('.', '.')], senses=('interest_1',))\n",
            "True: interest_1, Predicted: interest_6\n",
            "SensevalInstance(word='interest-n', position=17, context=[('washington', 'NN'), ('should', 'MD'), ('not', 'RB'), ('remain', 'VB'), ('idle', 'JJ'), ('when', 'WRB'), ('saudi', 'NN'), ('policies', 'NNS'), ('hurt', 'VBD'), ('our', 'PRP$'), (',', ','), ('as', 'RB'), ('well', 'RB'), ('as', 'IN'), ('their', 'PRP$'), ('own', 'JJ'), (',', ','), ('interests', 'NNS'), ('.', '.')], senses=('interest_4',))\n",
            "True: interest_4, Predicted: interest_6\n",
            "SensevalInstance(word='interest-n', position=31, context=[('looking', 'VBG'), ('ahead', 'RB'), ('to', 'TO'), ('commodity', 'NN'), ('markets', 'VBZ'), ('this', 'DT'), ('week', 'NN'), (':', ':'), ('copper', 'NN'), ('traders', 'NNS'), ('will', 'MD'), ('be', 'VB'), ('watching', 'VBG'), ('today', 'NN'), (\"'s\", 'POS'), ('london', 'NN'), ('metal', 'NN'), ('exchange', 'NN'), (\"'s\", 'POS'), ('report', 'NN'), ('on', 'IN'), ('copper', 'NN'), ('stocks', 'NNS'), ('in', 'IN'), ('its', 'PRP$'), ('warehouses', 'NNS'), ('with', 'IN'), ('more', 'JJR'), ('than', 'IN'), ('the', 'DT'), ('usual', 'JJ'), ('interest', 'NN'), ('.', '.')], senses=('interest_1',))\n",
            "True: interest_1, Predicted: interest_6\n",
            "SensevalInstance(word='interest-n', position=27, context=[('in', 'IN'), ('a', 'DT'), ('filing', 'NN'), ('with', 'IN'), ('the', 'DT'), ('securities', 'NNS'), ('and', 'CC'), ('exchange', 'NN'), ('commission', 'NN'), (',', ','), ('mr', 'NN'), ('.', '.'), ('gintel', 'NN'), ('said', 'VBD'), ('xtra', 'NN'), ('``', '``'), ('has', 'VBZ'), ('pursued', 'VBN'), ('business', 'NN'), ('strategies', 'NNS'), ('that', 'WDT'), ('are', 'VBP'), ('n', 'NN'), (\"'t\", 'NN'), ('in', 'IN'), ('the', 'DT'), ('best', 'JJS'), ('interest', 'NN'), ('of', 'IN'), ('stockholders', 'NNS'), ('.', '.')], senses=('interest_4',))\n",
            "True: interest_4, Predicted: interest_6\n",
            "SensevalInstance(word='interest-n', position=12, context=[('in', 'IN'), ('both', 'DT'), ('previous', 'JJ'), ('cases', 'NNS'), (',', ','), ('``', '``'), ('representatives', 'NNS'), ('of', 'IN'), ('the', 'DT'), ('school', 'NN'), (\"'s\", 'POS'), ('athletic', 'JJ'), ('interests', 'NNS'), (',', ','), (\"''\", \"''\"), ('i', 'NN'), ('.', '.'), ('e', 'NN'), ('.', '.'), (',', ','), ('boosters', 'NNS'), (',', ','), ('were', 'VBD'), ('involved', 'VBN'), ('.', '.')], senses=('interest_4',))\n",
            "True: interest_4, Predicted: interest_6\n",
            "SensevalInstance(word='interest-n', position=15, context=[('he', 'PRP'), ('said', 'VBD'), ('appropriate', 'JJ'), ('articles', 'NNS'), ('would', 'MD'), ('include', 'VB'), ('almost', 'JJ'), ('anything', 'NN'), ('``', '``'), ('as', 'RB'), ('long', 'RB'), ('as', 'IN'), ('it', 'PRP'), (\"'s\", 'NNS'), ('of', 'IN'), ('interest', 'NN'), ('to', 'TO'), ('the', 'DT'), ('inmates', 'NNS'), ('.', '.')], senses=('interest_2',))\n",
            "True: interest_2, Predicted: interest_6\n",
            "SensevalInstance(word='interest-n', position=4, context=[('environmental', 'JJ'), ('groups', 'NNS'), ('have', 'VBP'), ('no', 'DT'), ('interest', 'NN'), ('in', 'IN'), ('obtaining', 'VBG'), ('winning', 'VBG'), ('fines', 'NNS'), ('for', 'IN'), ('the', 'DT'), ('treasury', 'NN'), (',', ','), ('and', 'CC'), ('will', 'MD'), ('``', '``'), ('trade', 'VB'), (\"''\", \"''\"), ('even', 'RB'), ('a', 'DT'), ('relatively', 'RB'), ('modest', 'JJ'), ('credit', 'NN'), ('project', 'NN'), ('for', 'IN'), ('very', 'RB'), ('high', 'JJ'), ('fines', 'NNS'), ('.', '.')], senses=('interest_1',))\n",
            "True: interest_1, Predicted: interest_6\n",
            "SensevalInstance(word='interest-n', position=29, context=[('the', 'DT'), ('sale', 'NN'), ('includes', 'VBZ'), ('all', 'DT'), ('of', 'IN'), ('a', 'DT'), ('&', 'CC'), ('m', 'NN'), (\"'s\", 'POS'), ('record', 'NN'), ('operations', 'NNS'), (',', ','), ('its', 'PRP$'), ('music', 'NN'), ('video', 'NN'), ('*', 'SYM'), ('interests', 'NNS'), ('and', 'CC'), ('a', 'DT'), ('&', 'CC'), ('m', 'NN'), (\"'s\", 'POS'), ('los', 'NNS'), ('angeles', 'NNS'), ('offices', 'NNS'), ('but', 'CC'), ('not', 'RB'), ('the', 'DT'), ('music-publishing', 'JJ'), ('interests', 'NNS'), ('.', '.')], senses=('interest_5',))\n",
            "True: interest_5, Predicted: interest_6\n",
            "SensevalInstance(word='interest-n', position=34, context=[('mr', 'NN'), ('.', '.'), ('skase', 'NN'), ('also', 'RB'), ('disclosed', 'VBD'), ('a', 'DT'), ('disagreement', 'NN'), ('among', 'IN'), ('directors', 'NNS'), ('of', 'IN'), ('qintex', 'NN'), ('australia', 'NN'), ('over', 'IN'), ('certain', 'JJ'), ('fees', 'NNS'), ('claimed', 'VBN'), ('by', 'IN'), ('qintex', 'NN'), ('group', 'NN'), ('management', 'NN'), ('services', 'NNS'), ('pty', 'VBP'), ('.', '.'), (',', ','), ('a', 'DT'), ('management-services', 'NNS'), ('concern', 'VBP'), ('in', 'IN'), ('which', 'WDT'), ('qintex', 'VBP'), ('australia', 'VBG'), ('executives', 'NNS'), ('have', 'VBP'), ('an', 'DT'), ('interest', 'NN'), ('.', '.')], senses=('interest_5',))\n",
            "True: interest_5, Predicted: interest_6\n"
          ]
        }
      ]
    },
    {
      "cell_type": "code",
      "source": [
        "training_testing('line.pos')"
      ],
      "metadata": {
        "colab": {
          "base_uri": "https://localhost:8080/"
        },
        "id": "jbLWEvT9eq5v",
        "outputId": "6b5b48fb-5e5d-4f4c-c70f-4f1a7c98fd57"
      },
      "execution_count": null,
      "outputs": [
        {
          "output_type": "stream",
          "name": "stdout",
          "text": [
            "Labels: ['formation', 'product', 'phone', 'text', 'cord', 'division']\n",
            "Validation...\n",
            "Window size: 2, Vocab size: 200, Validation Accuracy: 0.5753920386007237\n",
            "Window size: 2, Vocab size: 300, Validation Accuracy: 0.5753920386007237\n",
            "Window size: 3, Vocab size: 200, Validation Accuracy: 0.5536791314837153\n",
            "Window size: 3, Vocab size: 300, Validation Accuracy: 0.5536791314837153\n",
            "Window size: 4, Vocab size: 200, Validation Accuracy: 0.5476477683956574\n",
            "Window size: 4, Vocab size: 300, Validation Accuracy: 0.5476477683956574\n",
            "Best param: window: 2, vocab: 200\n",
            "Testing...\n",
            "Accuracy: 0.6108433734939759\n",
            "Confusion matrix:\n",
            "[[  2   0   0   0  79   0]\n",
            " [  0  25   0   0  52   0]\n",
            " [  0   0   7   0  65   0]\n",
            " [  0   0   0  15  68   1]\n",
            " [  0   0   0   0 451   0]\n",
            " [  0   0   0   0  58   7]]\n",
            "Examples of errors\n",
            "SensevalInstance(word='line-n', position=64, context=[('from', 'IN'), ('canada', 'NNP'), ('comes', 'VBZ'), ('an', 'DT'), ('example', 'NN'), ('of', 'IN'), ('this', 'DT'), ('genre', 'NN'), (',', ','), ('zero', 'NN'), ('the', 'DT'), ('fool', 'NNP'), (',', ','), ('a', 'DT'), ('movie', 'NN'), ('shot', 'NN'), (',', ','), ('edited', 'VBN'), ('and', 'CC'), ('directed', 'VBN'), ('by', 'IN'), ('morley', 'NNP'), ('markson', 'NNP'), ('and', 'CC'), ('in', 'IN'), ('this', 'DT'), ('case', 'NN'), (',', ','), ('the', 'DT'), ('names', 'NNS'), ('and', 'CC'), ('major', 'JJ'), ('events', 'NNS'), ('don', 'VBP'), (\"'t\", 'VBG'), ('seem', 'VB'), ('to', 'TO'), ('have', 'VB'), ('been', 'VBN'), ('tampered', 'VBD'), ('with', 'IN'), ('even', 'RB'), ('slightly', 'RB'), ('.', '.'), ('kay', 'NNP'), ('armatage', 'NNP'), (',', ','), ('a', 'DT'), ('critic', 'NN'), ('for', 'IN'), ('montreal', 'NNP'), (\"'s\", 'POS'), ('avant-garde', 'JJ'), ('bimonthly', 'JJ'), ('take', 'VB'), ('one', 'CD'), (',', ','), ('reviews', 'VBZ'), ('this', 'DT'), ('final', 'JJ'), ('assault', 'NN'), ('on', 'IN'), ('the', 'DT'), ('thin', 'JJ'), ('line', 'NN'), ('separating', 'VBG'), ('\"', '\"'), ('cinema', 'NN'), ('life', 'NN'), ('\"', '\"'), ('from', 'IN'), ('\"', '\"'), ('real', 'JJ'), ('life', 'NN'), ('.', '.'), ('\"', '\"')], senses=('division',))\n",
            "True: division, Predicted: product\n",
            "SensevalInstance(word='line-n', position=13, context=[('the', 'DT'), ('fishermen', 'NNS'), ('ran', 'VBD'), ('back', 'RB'), ('with', 'IN'), ('him', 'PRP'), ('to', 'TO'), ('boris', 'NNP'), ('.', '.'), ('many', 'JJ'), ('hands', 'NNS'), ('grabbed', 'VBD'), ('the', 'DT'), ('line', 'NN'), ('from', 'IN'), ('the', 'DT'), ('panting', 'VBG'), ('cook', 'NN'), ('.', '.')], senses=('cord',))\n",
            "True: cord, Predicted: product\n",
            "SensevalInstance(word='line-n', position=16, context=[('\"', '\"'), ('very', 'RB'), ('good', 'JJ'), (',', ','), ('\"', '\"'), ('said', 'VBD'), ('galkin', 'NNP'), ('.', '.'), ('he', 'PRP'), ('stood', 'VBD'), ('up', 'IN'), ('and', 'CC'), ('began', 'VBD'), ('reeling', 'VBG'), ('in', 'IN'), ('his', 'PRP$'), ('line', 'NN'), ('.', '.')], senses=('cord',))\n",
            "True: cord, Predicted: product\n",
            "SensevalInstance(word='line-n', position=39, context=[('as', 'IN'), ('they', 'PRP'), ('stood', 'VBD'), ('in', 'IN'), ('the', 'DT'), ('charles', 'NNP'), ('schwab', 'NNP'), ('office', 'NN'), ('late', 'JJ'), ('yesterday', 'NN'), (',', ','), ('the', 'DT'), ('investors', 'NNS'), (',', ','), ('many', 'NN'), ('of', 'IN'), ('them', 'PRP'), ('elderly', 'JJ'), (',', ','), ('stayed', 'VBD'), ('near', 'IN'), ('the', 'DT'), ('machines', 'NNS'), ('.', '.'), ('they', 'PRP'), ('took', 'VBD'), ('turns', 'VBZ'), ('punching', 'VBG'), ('in', 'IN'), ('their', 'PRP$'), ('stocks', 'NNS'), (',', ','), ('then', 'RB'), ('headed', 'VBN'), ('to', 'TO'), ('the', 'DT'), ('back', 'RB'), ('of', 'IN'), ('the', 'DT'), ('line', 'NN'), ('.', '.')], senses=('formation',))\n",
            "True: formation, Predicted: product\n",
            "SensevalInstance(word='line-n', position=46, context=[('the', 'DT'), ('postal', 'NNP'), ('service', 'NNP'), ('said', 'VBD'), ('it', 'PRP'), ('will', 'MD'), ('modify', 'VB'), ('its', 'PRP$'), ('contract', 'NN'), ('with', 'IN'), ('electrocom', 'NNP'), ('automation', 'NNP'), ('inc', 'NNP'), ('.', '.'), ('of', 'IN'), ('arlington', 'NNP'), (',', ','), ('texas', 'NNP'), (',', ','), ('in', 'IN'), ('order', 'NN'), ('to', 'TO'), ('acquire', 'VB'), ('more', 'RBR'), ('sophisticated', 'JJ'), ('mail-sorting', 'VBG'), ('equipment', 'NN'), ('.', '.'), ('the', 'DT'), ('new', 'JJ'), ('contract', 'NN'), ('will', 'MD'), ('mandate', 'VB'), ('design', 'NN'), ('changes', 'NNS'), ('so', 'RB'), ('the', 'DT'), ('equipment', 'NN'), ('will', 'MD'), ('be', 'VB'), ('able', 'JJ'), ('to', 'TO'), ('\"', '\"'), ('read', 'VB'), ('\"', '\"'), ('several', 'JJ'), ('lines', 'NNS'), ('of', 'IN'), ('a', 'DT'), ('typed', 'VBN'), ('address', 'NN'), ('on', 'IN'), ('a', 'DT'), ('business-size', 'JJ'), ('envelope', 'NN'), ('.', '.'), ('the', 'DT'), ('original', 'JJ'), ('electrocom', 'NNP'), ('contract', 'NN'), (',', ','), ('valued', 'VBN'), ('at', 'IN'), ('about', 'RB'), ('$', '$'), ('200', 'CD'), ('million', 'CD'), (',', ','), ('was', 'VBD'), ('for', 'IN'), ('the', 'DT'), ('delivery', 'NN'), ('of', 'IN'), ('406', 'CD'), ('mailsorters', 'NNS'), ('capable', 'JJ'), ('of', 'IN'), ('reading', 'NN'), ('only', 'RB'), ('one', 'CD'), ('line', 'NN'), ('.', '.')], senses=('text',))\n",
            "True: text, Predicted: product\n",
            "SensevalInstance(word='line-n', position=40, context=[('it', 'PRP'), ('was', 'VBD'), ('true', 'JJ'), ('that', 'IN'), ('there', 'EX'), ('were', 'VBD'), ('no', 'DT'), ('spikes', 'NNS'), ('in', 'IN'), ('papyrus', 'NN'), ('boats', 'NNS'), ('.', '.'), ('instead', 'RB'), (',', ','), ('a', 'DT'), ('block', 'NN'), ('of', 'IN'), ('wood', 'NN'), ('was', 'VBD'), ('made', 'VBN'), ('fast', 'RB'), ('with', 'IN'), ('rope', 'NN'), ('on', 'IN'), ('top', 'NN'), ('of', 'IN'), ('the', 'DT'), ('reed', 'NN'), ('bundles', 'NNS'), (',', ','), ('and', 'CC'), ('the', 'DT'), ('mast', 'NN'), ('was', 'VBD'), ('stepped', 'VBN'), ('into', 'IN'), ('it', 'PRP'), ('and', 'CC'), ('secured', 'VBN'), ('with', 'IN'), ('lines', 'NNS'), ('.', '.')], senses=('cord',))\n",
            "True: cord, Predicted: product\n",
            "SensevalInstance(word='line-n', position=23, context=[('\"', '\"'), ('there', 'EX'), ('is', 'VBZ'), ('smoke', 'NN'), ('coming', 'VBG'), ('from', 'IN'), ('the', 'DT'), ('millhouse', 'NN'), (',', ','), ('\"', '\"'), ('the', 'DT'), ('old', 'JJ'), ('man', 'NN'), ('said', 'VBD'), ('.', '.'), ('\"', '\"'), ('there', 'EX'), ('are', 'VBP'), ('also', 'RB'), ('clothes', 'NNS'), ('hanging', 'VBG'), ('on', 'IN'), ('a', 'DT'), ('line', 'NN'), ('.', '.'), ('\"', '\"')], senses=('cord',))\n",
            "True: cord, Predicted: product\n",
            "SensevalInstance(word='line-n', position=7, context=[('\"', '\"'), ('sometimes', 'RB'), ('.', '.'), ('\"', '\"'), ('carlos', 'NNP'), ('gave', 'VBD'), ('his', 'PRP$'), ('line', 'NN'), ('a', 'DT'), ('tug', 'NN'), ('and', 'CC'), ('then', 'RB'), ('felt', 'VBD'), ('it', 'PRP'), ('ooze', 'NN'), ('back', 'RB'), ('into', 'IN'), ('the', 'DT'), ('water', 'NN'), ('.', '.')], senses=('cord',))\n",
            "True: cord, Predicted: product\n",
            "SensevalInstance(word='line-n', position=18, context=[('and', 'CC'), ('many', 'NN'), ('of', 'IN'), ('the', 'DT'), ('responses', 'NNS'), ('came', 'VBD'), ('right', 'NN'), ('out', 'IN'), ('of', 'IN'), ('the', 'DT'), ('music', 'NN'), ('.', '.'), ('for', 'IN'), ('instance', 'NN'), (',', ','), ('the', 'DT'), ('galloping', 'VBG'), ('marimba', 'NN'), ('lines', 'NNS'), ('did', 'VBD'), ('suggest', 'VBP'), ('the', 'DT'), ('horse', 'NN'), ('running', 'VBG'), ('alongside', 'IN'), ('a', 'DT'), ('train', 'NN'), ('described', 'VBN'), ('by', 'IN'), ('noah', 'NNP'), ('from', 'IN'), ('new', 'NNP'), ('york', 'NNP'), ('.', '.')], senses=('formation',))\n",
            "True: formation, Predicted: product\n",
            "SensevalInstance(word='line-n', position=19, context=[('after', 'IN'), ('more', 'JJR'), ('than', 'IN'), ('three', 'CD'), ('hours', 'NNS'), ('in', 'IN'), ('the', 'DT'), ('water', 'NN'), (',', ','), ('brown', 'NNP'), ('was', 'VBD'), ('picked', 'VBN'), ('up', 'RB'), ('.', '.'), ('as', 'IN'), ('he', 'PRP'), ('reached', 'VBD'), ('for', 'IN'), ('the', 'DT'), ('line', 'NN'), ('thrown', 'VBN'), ('from', 'IN'), ('the', 'DT'), ('warrington', 'NNP'), ('he', 'PRP'), ('was', 'VBD'), ('feebly', 'RB'), ('shouting', 'VBG'), (',', ','), ('\"', '\"'), ('i', 'PRP'), ('had', 'VBD'), ('eighteen', 'CD'), ('men', 'NNS'), ('.', '.')], senses=('cord',))\n",
            "True: cord, Predicted: product\n"
          ]
        }
      ]
    },
    {
      "cell_type": "code",
      "source": [
        "training_testing('serve.pos')"
      ],
      "metadata": {
        "colab": {
          "base_uri": "https://localhost:8080/"
        },
        "id": "_QJb4ilGfIbz",
        "outputId": "3a39a9a5-a927-482f-995e-dd5a6ae7b098"
      },
      "execution_count": null,
      "outputs": [
        {
          "output_type": "stream",
          "name": "stdout",
          "text": [
            "Labels: ['SERVE2', 'SERVE12', 'SERVE6', 'SERVE10']\n",
            "Validation...\n",
            "Window size: 2, Vocab size: 200, Validation Accuracy: 0.7465753424657534\n",
            "Window size: 2, Vocab size: 300, Validation Accuracy: 0.7465753424657534\n",
            "Window size: 3, Vocab size: 200, Validation Accuracy: 0.7876712328767124\n",
            "Window size: 3, Vocab size: 300, Validation Accuracy: 0.7876712328767124\n",
            "Window size: 4, Vocab size: 200, Validation Accuracy: 0.7796803652968036\n",
            "Window size: 4, Vocab size: 300, Validation Accuracy: 0.7796803652968036\n",
            "Best param: window: 3, vocab: 200\n",
            "Testing...\n",
            "Accuracy: 0.7899543378995434\n",
            "Confusion matrix:\n",
            "[[362   7   2   0]\n",
            " [ 29 218   1   0]\n",
            " [ 16  51 101   0]\n",
            " [ 52  22   4  11]]\n",
            "Examples of errors\n",
            "SensevalInstance(word='serve-v', position=29, context=[('he', 'PRP'), ('has', 'VBZ'), ('declined', 'VBN'), ('requests', 'NNS'), ('for', 'IN'), ('comment', 'NN'), (',', ','), ('and', 'CC'), ('it', 'PRP'), ('isn', 'VBP'), (\"'t\", 'VBG'), ('clear', 'JJ'), ('what', 'WP'), ('positions', 'VBZ'), ('he', 'PRP'), ('would', 'MD'), ('adopt', 'VB'), ('on', 'IN'), ('fed', 'NNP'), ('policy', 'NN'), ('.', '.'), ('mr', 'NNP'), ('.', '.'), ('olsen', 'NNP'), ('is', 'VBZ'), ('the', 'DT'), ('leading', 'VBG'), ('candidate', 'NN'), ('to', 'TO'), ('serve', 'VB'), ('the', 'DT'), ('rest', 'NN'), ('of', 'IN'), ('mr', 'NNP'), ('.', '.'), ('wallich', 'NNP'), (\"'s\", 'POS'), ('term', 'NN'), (',', ','), ('which', 'WDT'), ('ends', 'VBZ'), ('jan', 'NNP'), ('.', '.'), ('31', 'CD'), (',', ','), ('1988', 'CD'), ('.', '.')], senses=('SERVE12',))\n",
            "True: SERVE12, Predicted: SERVE10\n",
            "SensevalInstance(word='serve-v', position=56, context=[('in', 'IN'), ('addition', 'NN'), (',', ','), ('the', 'DT'), ('uniform', 'JJ'), ('code', 'NNP'), ('of', 'IN'), ('arbitration', 'NN'), ('governing', 'VBG'), ('most', 'RBS'), ('securities', 'NNS'), ('proceedings', 'NNS'), ('has', 'VBZ'), ('been', 'VBN'), ('approved', 'VBN'), ('by', 'IN'), ('the', 'DT'), ('sec', 'NNP'), ('and', 'CC'), ('calls', 'VBZ'), ('for', 'IN'), ('panels', 'NNS'), ('with', 'IN'), ('a', 'DT'), ('majority', 'NN'), ('of', 'IN'), ('\"', '\"'), ('public', 'JJ'), ('arbitrators', 'NNS'), ('\"', '\"'), ('from', 'IN'), ('outside', 'IN'), ('the', 'DT'), ('industry', 'NN'), ('unless', 'IN'), ('the', 'DT'), ('customer', 'NN'), ('requests', 'NNS'), ('otherwise', 'RB'), ('.', '.'), ('however', 'RB'), ('fair', 'JJ'), ('the', 'DT'), ('present', 'JJ'), ('system', 'NN'), ('may', 'MD'), ('be', 'VB'), (',', ','), ('it', 'PRP'), ('will', 'MD'), ('require', 'VB'), ('reforms', 'NNS'), ('if', 'IN'), ('it', 'PRP'), ('is', 'VBZ'), ('to', 'TO'), ('serve', 'VB'), ('as', 'IN'), ('the', 'DT'), ('court', 'NN'), ('of', 'IN'), ('last', 'JJ'), ('resort', 'NN'), ('for', 'IN'), ('important', 'JJ'), ('federal', 'JJ'), ('statutory', 'JJ'), ('rights', 'NNS'), ('.', '.')], senses=('SERVE2',))\n",
            "True: SERVE2, Predicted: SERVE10\n",
            "SensevalInstance(word='serve-v', position=32, context=[('civilized', 'JJ'), ('man', 'NN'), ('has', 'VBZ'), ('built', 'VBN'), ('a', 'DT'), ('system', 'NN'), ('of', 'IN'), ('entrapment', 'NN'), ('wherein', 'WRB'), ('he', 'PRP'), ('continually', 'RB'), ('strives', 'VBZ'), ('for', 'IN'), ('more', 'JJR'), ('and', 'CC'), ('cannot', 'MD'), ('refuse', 'VB'), ('a', 'DT'), ('challenge', 'NN'), (',', ','), ('however', 'RB'), ('meaningless', 'JJ'), ('.', '.'), ('escalation', 'NN'), ('is', 'VBZ'), ('not', 'RB'), ('an', 'DT'), ('evil', 'NN'), ('in', 'IN'), ('itself', 'PRP'), ('if', 'IN'), ('it', 'PRP'), ('serves', 'VBZ'), ('a', 'DT'), ('survival', 'NN'), (',', ','), ('safety', 'NN'), (',', ','), ('aesthetic', 'JJ'), (',', ','), ('or', 'CC'), ('humanitarian', 'JJ'), ('purpose', 'NN'), ('.', '.')], senses=('SERVE2',))\n",
            "True: SERVE2, Predicted: SERVE10\n",
            "SensevalInstance(word='serve-v', position=51, context=[('ordinarily', 'RB'), ('he', 'PRP'), ('wore', 'VBD'), ('an', 'DT'), ('old', 'JJ'), ('coat', 'NN'), (',', ','), ('a', 'DT'), ('shabby', 'JJ'), ('waistcoat', 'NN'), (',', ','), ('the', 'DT'), ('ugly', 'JJ'), (',', ','), ('black', 'JJ'), (',', ','), ('crumpled', 'JJ'), ('ill-tied', 'JJ'), ('cravat', 'NN'), ('of', 'IN'), ('a', 'DT'), ('student', 'NN'), (',', ','), ('trousers', 'NNS'), ('to', 'TO'), ('match', 'VB'), (',', ','), ('and', 'CC'), ('resoled', 'VBD'), ('boots', 'NNS'), ('.', '.'), ('between', 'IN'), ('these', 'DT'), ('two', 'CD'), ('persons', 'NNS'), ('and', 'CC'), ('the', 'DT'), ('others', 'NNS'), (',', ','), ('vautrin', 'NNP'), (',', ','), ('who', 'WP'), ('was', 'VBD'), ('forty', 'CD'), ('years', 'NNS'), ('old', 'JJ'), (',', ','), ('with', 'IN'), ('dyed', 'VBN'), ('whiskers', 'NNS'), (',', ','), ('served', 'VBD'), ('as', 'IN'), ('a', 'DT'), ('transition', 'NN'), ('.', '.')], senses=('SERVE2',))\n",
            "True: SERVE2, Predicted: SERVE12\n",
            "SensevalInstance(word='serve-v', position=38, context=[('life', 'NNP'), ('improved', 'VBD'), (',', ','), ('even', 'RB'), ('in', 'IN'), ('calabria', 'NNP'), (',', ','), ('a', 'DT'), ('region', 'NN'), ('so', 'RB'), ('poor', 'JJ'), ('and', 'CC'), ('underdeveloped', 'JJ'), ('that', 'IN'), ('some', 'DT'), ('call', 'NN'), ('it', 'PRP'), ('\"', '\"'), ('the', 'DT'), ('mezzogiorno', 'NNP'), ('of', 'IN'), ('the', 'DT'), ('mezzogiorno', 'NNP'), ('.', '.'), ('\"', '\"'), ('starvation', 'NNP'), ('and', 'CC'), ('malaria', 'NN'), ('are', 'VBP'), ('gone', 'VBN'), (';', ':'), ('illiteracy', 'NN'), ('is', 'VBZ'), ('rare', 'JJ'), (';', ':'), ('a', 'DT'), ('new', 'JJ'), ('university', 'NN'), ('serves', 'VBZ'), ('the', 'DT'), ('population', 'NN'), (';', ':'), ('an', 'DT'), ('autostrada', 'NN'), ('now', 'RB'), ('links', 'VBZ'), ('rome', 'NNP'), ('and', 'CC'), ('naples', 'NNP'), ('with', 'IN'), ('calabria', 'NNP'), (\"'s\", 'POS'), ('biggest', 'JJS'), ('cities', 'NNS'), ('.', '.')], senses=('SERVE6',))\n",
            "True: SERVE6, Predicted: SERVE12\n",
            "SensevalInstance(word='serve-v', position=44, context=[('mr', 'NNP'), ('.', '.'), ('iacocca', 'NNP'), ('will', 'MD'), ('chair', 'VB'), ('the', 'DT'), ('institute', 'NN'), (\"'s\", 'POS'), ('advisory', 'JJ'), ('board', 'NN'), ('once', 'RB'), ('the', 'DT'), ('institute', 'NN'), ('is', 'VBZ'), ('established', 'VBN'), ('.', '.'), ('lehigh', 'NNP'), ('said', 'VBD'), ('the', 'DT'), ('institute', 'NN'), ('will', 'MD'), ('study', 'VB'), ('america', 'NNP'), (\"'s\", 'POS'), ('competitiveness', 'NN'), (';', ':'), ('conduct', 'NN'), ('research', 'NN'), ('on', 'IN'), ('productivity', 'NN'), ('and', 'CC'), ('the', 'DT'), ('political', 'JJ'), ('and', 'CC'), ('economic', 'JJ'), ('environment', 'NN'), ('in', 'IN'), ('which', 'WDT'), ('american', 'JJ'), ('industry', 'NN'), ('operates', 'VBZ'), (',', ','), ('and', 'CC'), ('\"', '\"'), ('serve', 'VB'), ('as', 'IN'), ('a', 'DT'), ('clearinghouse', 'NN'), ('for', 'IN'), ('studies', 'NNS'), ('of', 'IN'), ('industrial', 'JJ'), ('problems', 'NNS'), ('and', 'CC'), ('policies', 'NNS'), ('.', '.'), ('\"', '\"')], senses=('SERVE2',))\n",
            "True: SERVE2, Predicted: SERVE12\n",
            "SensevalInstance(word='serve-v', position=86, context=[('american', 'JJ'), ('diplomats', 'NNS'), ('say', 'VBP'), ('china', 'NNP'), (\"'s\", 'POS'), ('increasing', 'VBG'), ('criticism', 'NN'), ('of', 'IN'), ('u', 'NNP'), ('.', '.'), ('s', 'NNP'), ('.', '.'), ('foreign', 'JJ'), ('policy', 'NN'), ('and', 'CC'), ('growing', 'VBG'), ('receptiveness', 'NN'), ('to', 'TO'), ('soviet', 'JJ'), ('overtures', 'NNS'), ('are', 'VBP'), ('part', 'NN'), ('of', 'IN'), ('peking', 'NNP'), (\"'s\", 'POS'), ('efforts', 'NNS'), ('to', 'TO'), ('find', 'VB'), ('middle', 'NN'), ('ground', 'NN'), ('where', 'WRB'), ('it', 'PRP'), ('can', 'MD'), ('best', 'JJS'), ('manipulate', 'VB'), ('the', 'DT'), ('three-way', 'JJ'), ('relationship', 'NN'), ('.', '.'), ('one', 'CD'), ('senior', 'JJ'), ('british', 'JJ'), ('diplomat', 'NN'), ('says', 'VBZ'), ('the', 'DT'), ('chinese', 'JJ'), ('are', 'VBP'), ('turning', 'VBG'), ('the', 'DT'), ('strategic', 'JJ'), ('triangle', 'NN'), ('into', 'IN'), ('a', 'DT'), ('seesaw', 'NN'), (':', ':'), ('the', 'DT'), ('feuding', 'VBG'), ('superpowers', 'NNS'), ('sit', 'VBP'), ('at', 'IN'), ('the', 'DT'), ('ends', 'NNS'), ('and', 'CC'), ('china', 'NNP'), ('stands', 'VBZ'), ('in', 'IN'), ('the', 'DT'), ('middle', 'NN'), (',', ','), ('manipulating', 'VBG'), ('the', 'DT'), ('balance', 'NN'), ('by', 'IN'), ('moving', 'VBG'), ('closer', 'JJR'), ('to', 'TO'), ('one', 'CD'), ('side', 'NN'), ('or', 'CC'), ('the', 'DT'), ('other', 'NN'), (',', ','), ('depending', 'VBG'), ('on', 'IN'), ('what', 'WP'), ('course', 'NN'), ('serves', 'VBZ'), ('it', 'PRP'), ('best', 'JJS'), ('at', 'IN'), ('the', 'DT'), ('moment', 'NN'), ('.', '.')], senses=('SERVE2',))\n",
            "True: SERVE2, Predicted: SERVE10\n",
            "SensevalInstance(word='serve-v', position=30, context=[('when', 'WRB'), ('he', 'PRP'), ('lands', 'VBZ'), (',', ','), ('i', 'PRP'), (\"'m\", 'VBP'), ('going', 'VBG'), ('to', 'TO'), ('present', 'VB'), ('him', 'PRP'), ('with', 'IN'), ('a', 'DT'), ('typed', 'VBN'), ('and', 'CC'), ('bound', 'VBN'), ('thesis', 'NN'), (',', ','), ('methods', 'NNS'), ('of', 'IN'), ('pollination', 'NNP'), ('used', 'VBN'), ('by', 'IN'), ('the', 'DT'), ('orchids', 'NNS'), ('of', 'IN'), ('flora', 'NNP'), ('.', '.'), ('my', 'PRP$'), ('thesis', 'NN'), ('will', 'MD'), ('serve', 'VB'), ('two', 'CD'), ('purposes', 'NNS'), ('to', 'TO'), ('restore', 'VB'), ('his', 'PRP$'), ('sanity', 'NN'), ('and', 'CC'), ('to', 'TO'), ('show', 'VB'), ('him', 'PRP'), ('who', 'WP'), (\"'s\", 'VBZ'), ('the', 'DT'), ('boss', 'NN'), ('.', '.')], senses=('SERVE2',))\n",
            "True: SERVE2, Predicted: SERVE12\n",
            "SensevalInstance(word='serve-v', position=31, context=[('and', 'CC'), ('a', 'DT'), ('very', 'RB'), ('rewarding', 'JJ'), ('part', 'NN'), ('of', 'IN'), ('homemaking', 'VBG'), ('is', 'VBZ'), ('planning', 'VBG'), ('the', 'DT'), ('right', 'NN'), ('foods', 'NNS'), ('for', 'IN'), ('a', 'DT'), ('family', 'NN'), ('.', '.'), ('for', 'IN'), ('february', 'NNP'), ('i', 'PRP'), ('have', 'VBP'), ('chosen', 'VBN'), ('some', 'DT'), ('easy', 'JJ'), ('and', 'CC'), ('inexpensive', 'JJ'), ('recipes', 'NNS'), ('which', 'WDT'), ('my', 'PRP$'), ('mormor', 'NNP'), ('might', 'MD'), ('have', 'VB'), ('served', 'VBD'), ('.', '.')], senses=('SERVE10',))\n",
            "True: SERVE10, Predicted: SERVE2\n",
            "SensevalInstance(word='serve-v', position=37, context=[('dave', 'NNP'), ('ellis', 'NNP'), ('moved', 'VBD'), ('over', 'IN'), ('to', 'TO'), ('join', 'VB'), ('ted', 'NNP'), ('callison', 'NNP'), (',', ','), ('chet', 'NNP'), (',', ','), ('and', 'CC'), ('roy', 'NNP'), ('veeder', 'NNP'), ('in', 'IN'), ('the', 'DT'), ('other', 'JJ'), ('sled', 'VBN'), ('.', '.'), ('kennart', 'NNP'), ('had', 'VBD'), ('brought', 'VBN'), ('provisions', 'NNS'), ('with', 'IN'), ('him', 'PRP'), (':', ':'), ('bundles', 'NNS'), ('of', 'IN'), ('dried', 'VBN'), ('meat', 'NN'), (',', ','), ('of', 'IN'), ('the', 'DT'), ('sort', 'NN'), ('that', 'WDT'), ('had', 'VBD'), ('been', 'VBN'), ('served', 'VBD'), ('at', 'IN'), ('the', 'DT'), ('banquet', 'NN'), ('.', '.'), ('it', 'PRP'), ('was', 'VBD'), ('not', 'RB'), ('that', 'IN'), ('he', 'PRP'), ('had', 'VBD'), ('any', 'DT'), ('prejudice', 'NN'), ('against', 'IN'), ('the', 'DT'), ('food', 'NN'), ('the', 'DT'), ('new', 'NNP'), ('yorkers', 'NNPS'), ('would', 'MD'), ('serve', 'VB'), ('him', 'PRP'), (';', ':'), ('he', 'PRP'), ('simply', 'RB'), ('preferred', 'JJ'), ('his', 'PRP$'), ('own', 'JJ'), ('.', '.')], senses=('SERVE10',))\n",
            "True: SERVE10, Predicted: SERVE12\n"
          ]
        }
      ]
    },
    {
      "cell_type": "markdown",
      "source": [
        "### BONUS: POS features"
      ],
      "metadata": {
        "id": "Wqf1vxPfBEp-"
      }
    },
    {
      "cell_type": "code",
      "source": [
        "def training_testing_pos(word):\n",
        "  #almost the same function as training_testing, but it uses also the pos features\n",
        "  #get the senses and instances\n",
        "  senses = []\n",
        "  instances = []\n",
        "  for i in senseval.instances(word):\n",
        "    senses.append((i, i.senses[0]))\n",
        "    instances.append(i)\n",
        "\n",
        "  #get the stopwords list in order to use for vocab extract\n",
        "  stopwords_list = nltk.corpus.stopwords.words('english')\n",
        "  #get the unique labels\n",
        "  unique_labels = list(set([l for (i, l) in senses]))\n",
        "  print(\"Labels: {}\".format(unique_labels))\n",
        "\n",
        "  random.seed(334)\n",
        "  random.shuffle(senses)\n",
        "  n = len(senses)\n",
        "  #split the data in: 60% training, 20% validation, 20% testing\n",
        "  training_data = senses[:int(0.6 * n)]\n",
        "  validation_data = senses[int(0.6 * n):int(0.8 * n)]\n",
        "  test_data = senses[int(0.8 * n):n]\n",
        "\n",
        "  #different values for hypertuning the model\n",
        "  window_numbers = [2,3,4]\n",
        "  vocab_numbers = [200, 300]\n",
        "\n",
        "  best_param_window = 2\n",
        "  best_param_vocab = 200\n",
        "  best_acc = 0\n",
        "\n",
        "  #try different combinations for the window and vocab to achieve the best NB model and use the best parameters to train and test the model using testing data\n",
        "  print(\"Validation...\")\n",
        "  for windows_n in window_numbers:\n",
        "    for vocab_n in vocab_numbers:\n",
        "      predicted_labels, true_labels = train_NB(instances, stopwords_list, training_data, validation_data, unique_labels, vocab_n, windows_n)\n",
        "\n",
        "      \n",
        "      print(\"Window size: {}, Vocab size: {}, Validation Accuracy: {}\".format(windows_n, vocab_n, accuracy_score(true_labels, predicted_labels)))\n",
        "      if accuracy_score(true_labels, predicted_labels) > best_acc:\n",
        "        best_acc = accuracy_score(true_labels, predicted_labels)\n",
        "        best_param_window = windows_n\n",
        "        best_param_vocab = vocab_n\n",
        "\n",
        "\n",
        "  #best params used for testing\n",
        "  print(\"Best param: window: {}, vocab: {}\".format(best_param_window, best_param_vocab))\n",
        "  print(\"Testing...\")\n",
        "  predicted_labels, true_labels = train_NB_pos(instances, stopwords_list, training_data, test_data, unique_labels, best_param_vocab, best_param_window)\n",
        "\n",
        "  print(\"Accuracy: {}\".format(accuracy_score(true_labels, predicted_labels)))\n",
        "  print(\"Confusion matrix:\")\n",
        "  print(confusion_matrix(true_labels, predicted_labels))\n",
        "  examples = 0\n",
        "  #print different types of errors\n",
        "  print(\"Examples of errors\")\n",
        "  for i in range(len(true_labels)):\n",
        "    if true_labels[i] != predicted_labels[i]:\n",
        "      print(test_data[i][0])\n",
        "      print(\"True: {}, Predicted: {}\".format(true_labels[i], predicted_labels[i]))\n",
        "      examples += 1\n",
        "    if examples == 10:\n",
        "      break"
      ],
      "metadata": {
        "id": "i_nIYJBMBJJb"
      },
      "execution_count": null,
      "outputs": []
    },
    {
      "cell_type": "code",
      "source": [
        "training_testing_pos('hard.pos')"
      ],
      "metadata": {
        "colab": {
          "base_uri": "https://localhost:8080/"
        },
        "id": "SlNdaF5iBStj",
        "outputId": "6780eaad-9dd9-4b00-b911-2a4825ee9b44"
      },
      "execution_count": null,
      "outputs": [
        {
          "output_type": "stream",
          "name": "stdout",
          "text": [
            "Labels: ['HARD1', 'HARD2', 'HARD3']\n",
            "Validation...\n",
            "Window size: 2, Vocab size: 200, Validation Accuracy: 0.8512110726643599\n",
            "Window size: 2, Vocab size: 300, Validation Accuracy: 0.8512110726643599\n",
            "Window size: 3, Vocab size: 200, Validation Accuracy: 0.8200692041522492\n",
            "Window size: 3, Vocab size: 300, Validation Accuracy: 0.8200692041522492\n",
            "Window size: 4, Vocab size: 200, Validation Accuracy: 0.8154555940023068\n",
            "Window size: 4, Vocab size: 300, Validation Accuracy: 0.8154555940023068\n",
            "Best param: window: 2, vocab: 200\n",
            "Testing...\n",
            "Accuracy: 0.8512110726643599\n",
            "Confusion matrix:\n",
            "[[701   0   0]\n",
            " [ 61  32   0]\n",
            " [ 68   0   5]]\n",
            "Examples of errors\n",
            "SensevalInstance(word='hard-a', position=23, context=[('i', 'PRP'), ('liked', 'VBD'), ('the', 'DT'), ('low-fat', 'JJ'), ('(', '('), ('no', 'DT'), ('shortening', 'VBG'), ('but', 'CC'), ('with', 'IN'), ('nuts', 'NNS'), ('or', 'CC'), ('chocolate', 'NN'), (')', 'SYM'), ('better', 'JJR'), ('than', 'IN'), ('the', 'DT'), ('no-fat', 'JJ'), (',', ','), ('which', 'WDT'), ('i', 'PRP'), ('found', 'VBD'), ('dry', 'JJ'), ('and', 'CC'), ('hard', 'JJ'), ('.', '.')], senses=('HARD3',))\n",
            "True: HARD3, Predicted: HARD1\n",
            "SensevalInstance(word='hard-a', position=16, context=[('he', 'PRP'), ('was', 'VBD'), ('sidetracked', 'VBD'), ('by', 'IN'), ('his', 'PRP$'), ('first', 'JJ'), ('real', 'JJ'), ('love', 'NN'), (',', ','), ('fancy', 'JJ'), ('cars', 'NNS'), (',', ','), ('and', 'CC'), ('after', 'IN'), ('years', 'NNS'), ('of', 'IN'), ('hard', 'JJ'), ('work', 'NN'), ('found', 'VBD'), ('himself', 'PRP'), ('the', 'DT'), ('owner', 'NN'), ('of', 'IN'), ('a', 'DT'), ('chain', 'NN'), ('of', 'IN'), ('bay', 'NNP'), ('area', 'NNP'), ('auto', 'NN'), ('body', 'NN'), ('shops', 'NNS'), ('that', 'IN'), ('specialized', 'JJ'), ('in', 'IN'), ('bmws', 'NNS'), ('and', 'CC'), ('mercedes', 'NNP'), ('.', '.')], senses=('HARD2',))\n",
            "True: HARD2, Predicted: HARD1\n",
            "SensevalInstance(word='hard-a', position=3, context=[('the', 'DT'), ('seeds', 'NNS'), ('of', 'IN'), ('hard', 'JJ'), (',', ','), ('fibrous', 'JJ'), (',', ','), ('stony', 'JJ'), ('fruits', 'NNS'), (',', ','), ('called', 'VBN'), ('nuts', 'NNS'), (',', ','), ('provide', 'VB'), ('highly', 'RB'), ('concentrated', 'VBN'), ('foods', 'NNS'), (',', ','), ('oils', 'NNS'), (',', ','), ('and', 'CC'), ('other', 'JJ'), ('materials', 'NNS'), ('of', 'IN'), ('value', 'NN'), ('.', '.')], senses=('HARD3',))\n",
            "True: HARD3, Predicted: HARD1\n",
            "SensevalInstance(word='hard-a', position=6, context=[('``', '``'), ('that', 'DT'), (\"'s\", 'VBZ'), ('a', 'DT'), ('lot', 'NN'), ('of', 'IN'), ('hard', 'JJ'), ('earned', 'VBD'), ('money', 'NN'), ('to', 'TO'), ('lose', 'VB'), (\"''\", \"''\"), (',', ','), ('he', 'PRP'), ('says', 'VBZ'), ('today', 'NN'), ('.', '.')], senses=('HARD2',))\n",
            "True: HARD2, Predicted: HARD1\n",
            "SensevalInstance(word='hard-a', position=7, context=[('corrections', 'NNP'), ('counselor', 'NN'), ('ric', 'NNP'), ('hyland', 'NNP'), (',', ','), ('who', 'WP'), ('did', 'VBD'), ('hard', 'JJ'), ('time', 'NN'), ('for', 'IN'), ('armed', 'VBN'), ('robbery', 'NN'), ('25', 'CD'), ('years', 'NNS'), ('ago', 'RB'), (',', ','), ('stood', 'VBD'), ('shoulder', 'NN'), ('to', 'TO'), ('shoulder', 'VB'), ('with', 'IN'), ('the', 'DT'), ('31-year-old', 'JJ'), ('groom', 'NN'), (',', ','), ('whose', 'WP$'), ('criminal', 'JJ'), ('record', 'NN'), ('includes', 'VBZ'), ('42', 'CD'), ('misdemeanor', 'NN'), ('and', 'CC'), ('four', 'CD'), ('felony', 'NN'), ('convictions', 'NNS'), ('for', 'IN'), ('drug', 'NN'), ('and', 'CC'), ('alcohol', 'NN'), ('-', ':'), ('related', 'VBN'), ('crimes', 'NNS'), ('and', 'CC'), ('three', 'CD'), ('terms', 'NNS'), ('in', 'IN'), ('san', 'NNP'), ('quentin', 'NNP'), ('.', '.')], senses=('HARD2',))\n",
            "True: HARD2, Predicted: HARD1\n",
            "SensevalInstance(word='hard-a', position=26, context=[('she', 'PRP'), ('told', 'VBD'), ('of', 'IN'), ('a', 'DT'), ('friend', 'NN'), ('who', 'WP'), ('came', 'VBD'), ('to', 'TO'), ('her', 'PRP$'), ('two', 'CD'), ('days', 'NNS'), ('after', 'IN'), ('a', 'DT'), ('physical', 'JJ'), ('``', '``'), ('and', 'CC'), ('asked', 'VBD'), ('if', 'IN'), ('i', 'PRP'), (\"'d\", 'MD'), ('look', 'VB'), ('at', 'IN'), ('.', '.'), ('.', '.'), ('.', '.'), (\"'a\", 'NN'), ('hard', 'JJ'), ('place', 'NN'), (\"'\", 'POS'), ('\"', '\"'), ('on', 'IN'), ('the', 'DT'), ('side', 'NN'), ('of', 'IN'), ('her', 'PRP$'), ('breast', 'NN'), ('.', '.')], senses=('HARD3',))\n",
            "True: HARD3, Predicted: HARD1\n",
            "SensevalInstance(word='hard-a', position=7, context=[('the', 'DT'), ('basic', 'JJ'), ('rule', 'NN'), ('is', 'VBZ'), ('this', 'DT'), (':', ':'), ('the', 'DT'), ('harder', 'JJ'), ('the', 'DT'), ('material', 'NN'), ('and', 'CC'), ('the', 'DT'), ('larger', 'JJR'), ('the', 'DT'), ('drill', 'NN'), ('diameter', 'NN'), (',', ','), ('the', 'DT'), ('slower', 'JJR'), ('should', 'MD'), ('the', 'DT'), ('speed', 'NN'), ('be', 'VB'), ('.', '.')], senses=('HARD3',))\n",
            "True: HARD3, Predicted: HARD1\n",
            "SensevalInstance(word='hard-a', position=9, context=[('in', 'IN'), ('these', 'DT'), ('areas', 'NNS'), (',', ','), ('they', 'PRP'), ('say', 'VBP'), (',', ','), ('a', 'DT'), ('little', 'JJ'), ('hard', 'JJ'), ('work', 'NN'), ('can', 'MD'), ('truly', 'RB'), ('pay', 'VB'), ('off', 'IN'), ('when', 'WRB'), ('it', 'PRP'), ('comes', 'VBZ'), ('time', 'NN'), ('to', 'TO'), ('sell', 'VB'), ('.', '.')], senses=('HARD2',))\n",
            "True: HARD2, Predicted: HARD1\n",
            "SensevalInstance(word='hard-a', position=3, context=[('``', '``'), ('it', 'PRP'), ('was', 'VBD'), ('hard', 'JJ'), ('work', 'NN'), ('six', 'CD'), ('days', 'NNS'), ('a', 'DT'), ('week', 'NN'), (',', ','), ('but', 'CC'), ('it', 'PRP'), ('was', 'VBD'), ('a', 'DT'), ('great', 'JJ'), ('experience', 'NN'), ('and', 'CC'), ('opened', 'VBD'), ('doors', 'NNS'), ('for', 'IN'), ('me', 'PRP'), (',', ','), ('\"', '\"'), ('said', 'VBD'), ('the', 'DT'), ('modest', 'JJ'), (',', ','), ('soft-spoken', 'JJ'), ('lam', 'NNP'), ('.', '.')], senses=('HARD2',))\n",
            "True: HARD2, Predicted: HARD1\n",
            "SensevalInstance(word='hard-a', position=1, context=[('most', 'JJS'), ('hard', 'JJ'), ('cheeses', 'NNS'), ('are', 'VBP'), ('higher', 'JJR'), ('in', 'IN'), ('saturated', 'VBN'), ('fats', 'NNS'), ('than', 'IN'), ('meat', 'NN'), ('.', '.')], senses=('HARD3',))\n",
            "True: HARD3, Predicted: HARD1\n"
          ]
        }
      ]
    },
    {
      "cell_type": "code",
      "source": [
        "training_testing_pos('interest.pos')"
      ],
      "metadata": {
        "colab": {
          "base_uri": "https://localhost:8080/"
        },
        "id": "2a-lsRYlC3ms",
        "outputId": "8a7e85d4-9c1e-47a3-f148-cdcb88339b60"
      },
      "execution_count": null,
      "outputs": [
        {
          "output_type": "stream",
          "name": "stdout",
          "text": [
            "Labels: ['interest_3', 'interest_2', 'interest_6', 'interest_4', 'interest_5', 'interest_1']\n",
            "Validation...\n",
            "Window size: 2, Vocab size: 200, Validation Accuracy: 0.70042194092827\n",
            "Window size: 2, Vocab size: 300, Validation Accuracy: 0.70042194092827\n",
            "Window size: 3, Vocab size: 200, Validation Accuracy: 0.6645569620253164\n",
            "Window size: 3, Vocab size: 300, Validation Accuracy: 0.6645569620253164\n",
            "Window size: 4, Vocab size: 200, Validation Accuracy: 0.6540084388185654\n",
            "Window size: 4, Vocab size: 300, Validation Accuracy: 0.6540084388185654\n",
            "Best param: window: 2, vocab: 200\n",
            "Testing...\n",
            "Accuracy: 0.6729957805907173\n",
            "Confusion matrix:\n",
            "[[ 20   0   0   0   4  47]\n",
            " [  0   0   0   0   0   4]\n",
            " [  0   0   0   0   0   8]\n",
            " [  0   0   0   1   1  39]\n",
            " [  2   0   0   0  69  49]\n",
            " [  1   0   0   0   0 229]]\n",
            "Examples of errors\n",
            "SensevalInstance(word='interest-n', position=10, context=[('smithkline', 'NN'), ('is', 'VBZ'), ('n', 'NN'), (\"'t\", 'VBG'), ('the', 'DT'), ('only', 'JJ'), ('company', 'NN'), ('to', 'TO'), ('exploit', 'VB'), ('congressional', 'JJ'), ('interest', 'NN'), ('in', 'IN'), ('bolar', 'NN'), ('.', '.')], senses=('interest_1',))\n",
            "True: interest_1, Predicted: interest_6\n",
            "SensevalInstance(word='interest-n', position=18, context=[('and', 'CC'), ('the', 'DT'), ('treasury', 'NN'), (\"'s\", 'POS'), ('$', '$'), ('17', 'CD'), ('.', '.'), ('6', 'CD'), ('billion', 'CD'), ('auction', 'NN'), ('of', 'IN'), ('short-term', 'JJ'), ('bills', 'NNS'), (',', ','), ('which', 'WDT'), ('generated', 'VBD'), ('strong', 'JJ'), ('buying', 'NN'), ('interest', 'NN'), (',', ','), ('helped', 'VBD'), ('to', 'TO'), ('lift', 'VB'), ('the', 'DT'), ('bond', 'NN'), ('market', 'NN'), ('out', 'IN'), ('of', 'IN'), ('the', 'DT'), ('doldrums', 'NNS'), ('.', '.')], senses=('interest_1',))\n",
            "True: interest_1, Predicted: interest_6\n",
            "SensevalInstance(word='interest-n', position=17, context=[('washington', 'NN'), ('should', 'MD'), ('not', 'RB'), ('remain', 'VB'), ('idle', 'JJ'), ('when', 'WRB'), ('saudi', 'NN'), ('policies', 'NNS'), ('hurt', 'VBD'), ('our', 'PRP$'), (',', ','), ('as', 'RB'), ('well', 'RB'), ('as', 'IN'), ('their', 'PRP$'), ('own', 'JJ'), (',', ','), ('interests', 'NNS'), ('.', '.')], senses=('interest_4',))\n",
            "True: interest_4, Predicted: interest_6\n",
            "SensevalInstance(word='interest-n', position=31, context=[('looking', 'VBG'), ('ahead', 'RB'), ('to', 'TO'), ('commodity', 'NN'), ('markets', 'VBZ'), ('this', 'DT'), ('week', 'NN'), (':', ':'), ('copper', 'NN'), ('traders', 'NNS'), ('will', 'MD'), ('be', 'VB'), ('watching', 'VBG'), ('today', 'NN'), (\"'s\", 'POS'), ('london', 'NN'), ('metal', 'NN'), ('exchange', 'NN'), (\"'s\", 'POS'), ('report', 'NN'), ('on', 'IN'), ('copper', 'NN'), ('stocks', 'NNS'), ('in', 'IN'), ('its', 'PRP$'), ('warehouses', 'NNS'), ('with', 'IN'), ('more', 'JJR'), ('than', 'IN'), ('the', 'DT'), ('usual', 'JJ'), ('interest', 'NN'), ('.', '.')], senses=('interest_1',))\n",
            "True: interest_1, Predicted: interest_6\n",
            "SensevalInstance(word='interest-n', position=27, context=[('in', 'IN'), ('a', 'DT'), ('filing', 'NN'), ('with', 'IN'), ('the', 'DT'), ('securities', 'NNS'), ('and', 'CC'), ('exchange', 'NN'), ('commission', 'NN'), (',', ','), ('mr', 'NN'), ('.', '.'), ('gintel', 'NN'), ('said', 'VBD'), ('xtra', 'NN'), ('``', '``'), ('has', 'VBZ'), ('pursued', 'VBN'), ('business', 'NN'), ('strategies', 'NNS'), ('that', 'WDT'), ('are', 'VBP'), ('n', 'NN'), (\"'t\", 'NN'), ('in', 'IN'), ('the', 'DT'), ('best', 'JJS'), ('interest', 'NN'), ('of', 'IN'), ('stockholders', 'NNS'), ('.', '.')], senses=('interest_4',))\n",
            "True: interest_4, Predicted: interest_6\n",
            "SensevalInstance(word='interest-n', position=12, context=[('in', 'IN'), ('both', 'DT'), ('previous', 'JJ'), ('cases', 'NNS'), (',', ','), ('``', '``'), ('representatives', 'NNS'), ('of', 'IN'), ('the', 'DT'), ('school', 'NN'), (\"'s\", 'POS'), ('athletic', 'JJ'), ('interests', 'NNS'), (',', ','), (\"''\", \"''\"), ('i', 'NN'), ('.', '.'), ('e', 'NN'), ('.', '.'), (',', ','), ('boosters', 'NNS'), (',', ','), ('were', 'VBD'), ('involved', 'VBN'), ('.', '.')], senses=('interest_4',))\n",
            "True: interest_4, Predicted: interest_6\n",
            "SensevalInstance(word='interest-n', position=15, context=[('he', 'PRP'), ('said', 'VBD'), ('appropriate', 'JJ'), ('articles', 'NNS'), ('would', 'MD'), ('include', 'VB'), ('almost', 'JJ'), ('anything', 'NN'), ('``', '``'), ('as', 'RB'), ('long', 'RB'), ('as', 'IN'), ('it', 'PRP'), (\"'s\", 'NNS'), ('of', 'IN'), ('interest', 'NN'), ('to', 'TO'), ('the', 'DT'), ('inmates', 'NNS'), ('.', '.')], senses=('interest_2',))\n",
            "True: interest_2, Predicted: interest_6\n",
            "SensevalInstance(word='interest-n', position=4, context=[('environmental', 'JJ'), ('groups', 'NNS'), ('have', 'VBP'), ('no', 'DT'), ('interest', 'NN'), ('in', 'IN'), ('obtaining', 'VBG'), ('winning', 'VBG'), ('fines', 'NNS'), ('for', 'IN'), ('the', 'DT'), ('treasury', 'NN'), (',', ','), ('and', 'CC'), ('will', 'MD'), ('``', '``'), ('trade', 'VB'), (\"''\", \"''\"), ('even', 'RB'), ('a', 'DT'), ('relatively', 'RB'), ('modest', 'JJ'), ('credit', 'NN'), ('project', 'NN'), ('for', 'IN'), ('very', 'RB'), ('high', 'JJ'), ('fines', 'NNS'), ('.', '.')], senses=('interest_1',))\n",
            "True: interest_1, Predicted: interest_6\n",
            "SensevalInstance(word='interest-n', position=29, context=[('the', 'DT'), ('sale', 'NN'), ('includes', 'VBZ'), ('all', 'DT'), ('of', 'IN'), ('a', 'DT'), ('&', 'CC'), ('m', 'NN'), (\"'s\", 'POS'), ('record', 'NN'), ('operations', 'NNS'), (',', ','), ('its', 'PRP$'), ('music', 'NN'), ('video', 'NN'), ('*', 'SYM'), ('interests', 'NNS'), ('and', 'CC'), ('a', 'DT'), ('&', 'CC'), ('m', 'NN'), (\"'s\", 'POS'), ('los', 'NNS'), ('angeles', 'NNS'), ('offices', 'NNS'), ('but', 'CC'), ('not', 'RB'), ('the', 'DT'), ('music-publishing', 'JJ'), ('interests', 'NNS'), ('.', '.')], senses=('interest_5',))\n",
            "True: interest_5, Predicted: interest_6\n",
            "SensevalInstance(word='interest-n', position=34, context=[('mr', 'NN'), ('.', '.'), ('skase', 'NN'), ('also', 'RB'), ('disclosed', 'VBD'), ('a', 'DT'), ('disagreement', 'NN'), ('among', 'IN'), ('directors', 'NNS'), ('of', 'IN'), ('qintex', 'NN'), ('australia', 'NN'), ('over', 'IN'), ('certain', 'JJ'), ('fees', 'NNS'), ('claimed', 'VBN'), ('by', 'IN'), ('qintex', 'NN'), ('group', 'NN'), ('management', 'NN'), ('services', 'NNS'), ('pty', 'VBP'), ('.', '.'), (',', ','), ('a', 'DT'), ('management-services', 'NNS'), ('concern', 'VBP'), ('in', 'IN'), ('which', 'WDT'), ('qintex', 'VBP'), ('australia', 'VBG'), ('executives', 'NNS'), ('have', 'VBP'), ('an', 'DT'), ('interest', 'NN'), ('.', '.')], senses=('interest_5',))\n",
            "True: interest_5, Predicted: interest_6\n"
          ]
        }
      ]
    },
    {
      "cell_type": "code",
      "source": [
        "training_testing_pos('line.pos')"
      ],
      "metadata": {
        "colab": {
          "base_uri": "https://localhost:8080/"
        },
        "id": "mq9WgZIdDy95",
        "outputId": "7b1864d1-6f14-49e8-e06f-0ff951d03db7"
      },
      "execution_count": null,
      "outputs": [
        {
          "output_type": "stream",
          "name": "stdout",
          "text": [
            "Labels: ['division', 'formation', 'cord', 'phone', 'text', 'product']\n",
            "Validation...\n",
            "Window size: 2, Vocab size: 200, Validation Accuracy: 0.571773220747889\n",
            "Window size: 2, Vocab size: 300, Validation Accuracy: 0.571773220747889\n",
            "Window size: 3, Vocab size: 200, Validation Accuracy: 0.5524728588661038\n",
            "Window size: 3, Vocab size: 300, Validation Accuracy: 0.5524728588661038\n",
            "Window size: 4, Vocab size: 200, Validation Accuracy: 0.5440289505428226\n",
            "Window size: 4, Vocab size: 300, Validation Accuracy: 0.5440289505428226\n",
            "Best param: window: 2, vocab: 200\n",
            "Testing...\n",
            "Accuracy: 0.6108433734939759\n",
            "Confusion matrix:\n",
            "[[  1   0   0   1  79   0]\n",
            " [  0  25   0   0  52   0]\n",
            " [  0   0   7   0  65   0]\n",
            " [  0   0   0  16  68   0]\n",
            " [  0   0   0   0 451   0]\n",
            " [  0   0   0   0  58   7]]\n",
            "Examples of errors\n",
            "SensevalInstance(word='line-n', position=64, context=[('from', 'IN'), ('canada', 'NNP'), ('comes', 'VBZ'), ('an', 'DT'), ('example', 'NN'), ('of', 'IN'), ('this', 'DT'), ('genre', 'NN'), (',', ','), ('zero', 'NN'), ('the', 'DT'), ('fool', 'NNP'), (',', ','), ('a', 'DT'), ('movie', 'NN'), ('shot', 'NN'), (',', ','), ('edited', 'VBN'), ('and', 'CC'), ('directed', 'VBN'), ('by', 'IN'), ('morley', 'NNP'), ('markson', 'NNP'), ('and', 'CC'), ('in', 'IN'), ('this', 'DT'), ('case', 'NN'), (',', ','), ('the', 'DT'), ('names', 'NNS'), ('and', 'CC'), ('major', 'JJ'), ('events', 'NNS'), ('don', 'VBP'), (\"'t\", 'VBG'), ('seem', 'VB'), ('to', 'TO'), ('have', 'VB'), ('been', 'VBN'), ('tampered', 'VBD'), ('with', 'IN'), ('even', 'RB'), ('slightly', 'RB'), ('.', '.'), ('kay', 'NNP'), ('armatage', 'NNP'), (',', ','), ('a', 'DT'), ('critic', 'NN'), ('for', 'IN'), ('montreal', 'NNP'), (\"'s\", 'POS'), ('avant-garde', 'JJ'), ('bimonthly', 'JJ'), ('take', 'VB'), ('one', 'CD'), (',', ','), ('reviews', 'VBZ'), ('this', 'DT'), ('final', 'JJ'), ('assault', 'NN'), ('on', 'IN'), ('the', 'DT'), ('thin', 'JJ'), ('line', 'NN'), ('separating', 'VBG'), ('\"', '\"'), ('cinema', 'NN'), ('life', 'NN'), ('\"', '\"'), ('from', 'IN'), ('\"', '\"'), ('real', 'JJ'), ('life', 'NN'), ('.', '.'), ('\"', '\"')], senses=('division',))\n",
            "True: division, Predicted: product\n",
            "SensevalInstance(word='line-n', position=13, context=[('the', 'DT'), ('fishermen', 'NNS'), ('ran', 'VBD'), ('back', 'RB'), ('with', 'IN'), ('him', 'PRP'), ('to', 'TO'), ('boris', 'NNP'), ('.', '.'), ('many', 'JJ'), ('hands', 'NNS'), ('grabbed', 'VBD'), ('the', 'DT'), ('line', 'NN'), ('from', 'IN'), ('the', 'DT'), ('panting', 'VBG'), ('cook', 'NN'), ('.', '.')], senses=('cord',))\n",
            "True: cord, Predicted: product\n",
            "SensevalInstance(word='line-n', position=16, context=[('\"', '\"'), ('very', 'RB'), ('good', 'JJ'), (',', ','), ('\"', '\"'), ('said', 'VBD'), ('galkin', 'NNP'), ('.', '.'), ('he', 'PRP'), ('stood', 'VBD'), ('up', 'IN'), ('and', 'CC'), ('began', 'VBD'), ('reeling', 'VBG'), ('in', 'IN'), ('his', 'PRP$'), ('line', 'NN'), ('.', '.')], senses=('cord',))\n",
            "True: cord, Predicted: product\n",
            "SensevalInstance(word='line-n', position=39, context=[('as', 'IN'), ('they', 'PRP'), ('stood', 'VBD'), ('in', 'IN'), ('the', 'DT'), ('charles', 'NNP'), ('schwab', 'NNP'), ('office', 'NN'), ('late', 'JJ'), ('yesterday', 'NN'), (',', ','), ('the', 'DT'), ('investors', 'NNS'), (',', ','), ('many', 'NN'), ('of', 'IN'), ('them', 'PRP'), ('elderly', 'JJ'), (',', ','), ('stayed', 'VBD'), ('near', 'IN'), ('the', 'DT'), ('machines', 'NNS'), ('.', '.'), ('they', 'PRP'), ('took', 'VBD'), ('turns', 'VBZ'), ('punching', 'VBG'), ('in', 'IN'), ('their', 'PRP$'), ('stocks', 'NNS'), (',', ','), ('then', 'RB'), ('headed', 'VBN'), ('to', 'TO'), ('the', 'DT'), ('back', 'RB'), ('of', 'IN'), ('the', 'DT'), ('line', 'NN'), ('.', '.')], senses=('formation',))\n",
            "True: formation, Predicted: product\n",
            "SensevalInstance(word='line-n', position=46, context=[('the', 'DT'), ('postal', 'NNP'), ('service', 'NNP'), ('said', 'VBD'), ('it', 'PRP'), ('will', 'MD'), ('modify', 'VB'), ('its', 'PRP$'), ('contract', 'NN'), ('with', 'IN'), ('electrocom', 'NNP'), ('automation', 'NNP'), ('inc', 'NNP'), ('.', '.'), ('of', 'IN'), ('arlington', 'NNP'), (',', ','), ('texas', 'NNP'), (',', ','), ('in', 'IN'), ('order', 'NN'), ('to', 'TO'), ('acquire', 'VB'), ('more', 'RBR'), ('sophisticated', 'JJ'), ('mail-sorting', 'VBG'), ('equipment', 'NN'), ('.', '.'), ('the', 'DT'), ('new', 'JJ'), ('contract', 'NN'), ('will', 'MD'), ('mandate', 'VB'), ('design', 'NN'), ('changes', 'NNS'), ('so', 'RB'), ('the', 'DT'), ('equipment', 'NN'), ('will', 'MD'), ('be', 'VB'), ('able', 'JJ'), ('to', 'TO'), ('\"', '\"'), ('read', 'VB'), ('\"', '\"'), ('several', 'JJ'), ('lines', 'NNS'), ('of', 'IN'), ('a', 'DT'), ('typed', 'VBN'), ('address', 'NN'), ('on', 'IN'), ('a', 'DT'), ('business-size', 'JJ'), ('envelope', 'NN'), ('.', '.'), ('the', 'DT'), ('original', 'JJ'), ('electrocom', 'NNP'), ('contract', 'NN'), (',', ','), ('valued', 'VBN'), ('at', 'IN'), ('about', 'RB'), ('$', '$'), ('200', 'CD'), ('million', 'CD'), (',', ','), ('was', 'VBD'), ('for', 'IN'), ('the', 'DT'), ('delivery', 'NN'), ('of', 'IN'), ('406', 'CD'), ('mailsorters', 'NNS'), ('capable', 'JJ'), ('of', 'IN'), ('reading', 'NN'), ('only', 'RB'), ('one', 'CD'), ('line', 'NN'), ('.', '.')], senses=('text',))\n",
            "True: text, Predicted: product\n",
            "SensevalInstance(word='line-n', position=40, context=[('it', 'PRP'), ('was', 'VBD'), ('true', 'JJ'), ('that', 'IN'), ('there', 'EX'), ('were', 'VBD'), ('no', 'DT'), ('spikes', 'NNS'), ('in', 'IN'), ('papyrus', 'NN'), ('boats', 'NNS'), ('.', '.'), ('instead', 'RB'), (',', ','), ('a', 'DT'), ('block', 'NN'), ('of', 'IN'), ('wood', 'NN'), ('was', 'VBD'), ('made', 'VBN'), ('fast', 'RB'), ('with', 'IN'), ('rope', 'NN'), ('on', 'IN'), ('top', 'NN'), ('of', 'IN'), ('the', 'DT'), ('reed', 'NN'), ('bundles', 'NNS'), (',', ','), ('and', 'CC'), ('the', 'DT'), ('mast', 'NN'), ('was', 'VBD'), ('stepped', 'VBN'), ('into', 'IN'), ('it', 'PRP'), ('and', 'CC'), ('secured', 'VBN'), ('with', 'IN'), ('lines', 'NNS'), ('.', '.')], senses=('cord',))\n",
            "True: cord, Predicted: product\n",
            "SensevalInstance(word='line-n', position=23, context=[('\"', '\"'), ('there', 'EX'), ('is', 'VBZ'), ('smoke', 'NN'), ('coming', 'VBG'), ('from', 'IN'), ('the', 'DT'), ('millhouse', 'NN'), (',', ','), ('\"', '\"'), ('the', 'DT'), ('old', 'JJ'), ('man', 'NN'), ('said', 'VBD'), ('.', '.'), ('\"', '\"'), ('there', 'EX'), ('are', 'VBP'), ('also', 'RB'), ('clothes', 'NNS'), ('hanging', 'VBG'), ('on', 'IN'), ('a', 'DT'), ('line', 'NN'), ('.', '.'), ('\"', '\"')], senses=('cord',))\n",
            "True: cord, Predicted: product\n",
            "SensevalInstance(word='line-n', position=7, context=[('\"', '\"'), ('sometimes', 'RB'), ('.', '.'), ('\"', '\"'), ('carlos', 'NNP'), ('gave', 'VBD'), ('his', 'PRP$'), ('line', 'NN'), ('a', 'DT'), ('tug', 'NN'), ('and', 'CC'), ('then', 'RB'), ('felt', 'VBD'), ('it', 'PRP'), ('ooze', 'NN'), ('back', 'RB'), ('into', 'IN'), ('the', 'DT'), ('water', 'NN'), ('.', '.')], senses=('cord',))\n",
            "True: cord, Predicted: product\n",
            "SensevalInstance(word='line-n', position=18, context=[('and', 'CC'), ('many', 'NN'), ('of', 'IN'), ('the', 'DT'), ('responses', 'NNS'), ('came', 'VBD'), ('right', 'NN'), ('out', 'IN'), ('of', 'IN'), ('the', 'DT'), ('music', 'NN'), ('.', '.'), ('for', 'IN'), ('instance', 'NN'), (',', ','), ('the', 'DT'), ('galloping', 'VBG'), ('marimba', 'NN'), ('lines', 'NNS'), ('did', 'VBD'), ('suggest', 'VBP'), ('the', 'DT'), ('horse', 'NN'), ('running', 'VBG'), ('alongside', 'IN'), ('a', 'DT'), ('train', 'NN'), ('described', 'VBN'), ('by', 'IN'), ('noah', 'NNP'), ('from', 'IN'), ('new', 'NNP'), ('york', 'NNP'), ('.', '.')], senses=('formation',))\n",
            "True: formation, Predicted: product\n",
            "SensevalInstance(word='line-n', position=19, context=[('after', 'IN'), ('more', 'JJR'), ('than', 'IN'), ('three', 'CD'), ('hours', 'NNS'), ('in', 'IN'), ('the', 'DT'), ('water', 'NN'), (',', ','), ('brown', 'NNP'), ('was', 'VBD'), ('picked', 'VBN'), ('up', 'RB'), ('.', '.'), ('as', 'IN'), ('he', 'PRP'), ('reached', 'VBD'), ('for', 'IN'), ('the', 'DT'), ('line', 'NN'), ('thrown', 'VBN'), ('from', 'IN'), ('the', 'DT'), ('warrington', 'NNP'), ('he', 'PRP'), ('was', 'VBD'), ('feebly', 'RB'), ('shouting', 'VBG'), (',', ','), ('\"', '\"'), ('i', 'PRP'), ('had', 'VBD'), ('eighteen', 'CD'), ('men', 'NNS'), ('.', '.')], senses=('cord',))\n",
            "True: cord, Predicted: product\n"
          ]
        }
      ]
    },
    {
      "cell_type": "code",
      "source": [
        "training_testing_pos('serve.pos')"
      ],
      "metadata": {
        "colab": {
          "base_uri": "https://localhost:8080/"
        },
        "id": "FTCD-E3SGoas",
        "outputId": "a390e401-15d8-47b0-c428-48e5e1e0463a"
      },
      "execution_count": null,
      "outputs": [
        {
          "output_type": "stream",
          "name": "stdout",
          "text": [
            "Labels: ['SERVE6', 'SERVE12', 'SERVE2', 'SERVE10']\n",
            "Validation...\n",
            "Window size: 2, Vocab size: 200, Validation Accuracy: 0.7465753424657534\n",
            "Window size: 2, Vocab size: 300, Validation Accuracy: 0.7465753424657534\n",
            "Window size: 3, Vocab size: 200, Validation Accuracy: 0.7876712328767124\n",
            "Window size: 3, Vocab size: 300, Validation Accuracy: 0.7876712328767124\n",
            "Window size: 4, Vocab size: 200, Validation Accuracy: 0.7796803652968036\n",
            "Window size: 4, Vocab size: 300, Validation Accuracy: 0.7796803652968036\n",
            "Best param: window: 3, vocab: 200\n",
            "Testing...\n",
            "Accuracy: 0.7899543378995434\n",
            "Confusion matrix:\n",
            "[[362   7   2   0]\n",
            " [ 29 218   1   0]\n",
            " [ 16  51 101   0]\n",
            " [ 52  22   4  11]]\n",
            "Examples of errors\n",
            "SensevalInstance(word='serve-v', position=29, context=[('he', 'PRP'), ('has', 'VBZ'), ('declined', 'VBN'), ('requests', 'NNS'), ('for', 'IN'), ('comment', 'NN'), (',', ','), ('and', 'CC'), ('it', 'PRP'), ('isn', 'VBP'), (\"'t\", 'VBG'), ('clear', 'JJ'), ('what', 'WP'), ('positions', 'VBZ'), ('he', 'PRP'), ('would', 'MD'), ('adopt', 'VB'), ('on', 'IN'), ('fed', 'NNP'), ('policy', 'NN'), ('.', '.'), ('mr', 'NNP'), ('.', '.'), ('olsen', 'NNP'), ('is', 'VBZ'), ('the', 'DT'), ('leading', 'VBG'), ('candidate', 'NN'), ('to', 'TO'), ('serve', 'VB'), ('the', 'DT'), ('rest', 'NN'), ('of', 'IN'), ('mr', 'NNP'), ('.', '.'), ('wallich', 'NNP'), (\"'s\", 'POS'), ('term', 'NN'), (',', ','), ('which', 'WDT'), ('ends', 'VBZ'), ('jan', 'NNP'), ('.', '.'), ('31', 'CD'), (',', ','), ('1988', 'CD'), ('.', '.')], senses=('SERVE12',))\n",
            "True: SERVE12, Predicted: SERVE10\n",
            "SensevalInstance(word='serve-v', position=56, context=[('in', 'IN'), ('addition', 'NN'), (',', ','), ('the', 'DT'), ('uniform', 'JJ'), ('code', 'NNP'), ('of', 'IN'), ('arbitration', 'NN'), ('governing', 'VBG'), ('most', 'RBS'), ('securities', 'NNS'), ('proceedings', 'NNS'), ('has', 'VBZ'), ('been', 'VBN'), ('approved', 'VBN'), ('by', 'IN'), ('the', 'DT'), ('sec', 'NNP'), ('and', 'CC'), ('calls', 'VBZ'), ('for', 'IN'), ('panels', 'NNS'), ('with', 'IN'), ('a', 'DT'), ('majority', 'NN'), ('of', 'IN'), ('\"', '\"'), ('public', 'JJ'), ('arbitrators', 'NNS'), ('\"', '\"'), ('from', 'IN'), ('outside', 'IN'), ('the', 'DT'), ('industry', 'NN'), ('unless', 'IN'), ('the', 'DT'), ('customer', 'NN'), ('requests', 'NNS'), ('otherwise', 'RB'), ('.', '.'), ('however', 'RB'), ('fair', 'JJ'), ('the', 'DT'), ('present', 'JJ'), ('system', 'NN'), ('may', 'MD'), ('be', 'VB'), (',', ','), ('it', 'PRP'), ('will', 'MD'), ('require', 'VB'), ('reforms', 'NNS'), ('if', 'IN'), ('it', 'PRP'), ('is', 'VBZ'), ('to', 'TO'), ('serve', 'VB'), ('as', 'IN'), ('the', 'DT'), ('court', 'NN'), ('of', 'IN'), ('last', 'JJ'), ('resort', 'NN'), ('for', 'IN'), ('important', 'JJ'), ('federal', 'JJ'), ('statutory', 'JJ'), ('rights', 'NNS'), ('.', '.')], senses=('SERVE2',))\n",
            "True: SERVE2, Predicted: SERVE10\n",
            "SensevalInstance(word='serve-v', position=32, context=[('civilized', 'JJ'), ('man', 'NN'), ('has', 'VBZ'), ('built', 'VBN'), ('a', 'DT'), ('system', 'NN'), ('of', 'IN'), ('entrapment', 'NN'), ('wherein', 'WRB'), ('he', 'PRP'), ('continually', 'RB'), ('strives', 'VBZ'), ('for', 'IN'), ('more', 'JJR'), ('and', 'CC'), ('cannot', 'MD'), ('refuse', 'VB'), ('a', 'DT'), ('challenge', 'NN'), (',', ','), ('however', 'RB'), ('meaningless', 'JJ'), ('.', '.'), ('escalation', 'NN'), ('is', 'VBZ'), ('not', 'RB'), ('an', 'DT'), ('evil', 'NN'), ('in', 'IN'), ('itself', 'PRP'), ('if', 'IN'), ('it', 'PRP'), ('serves', 'VBZ'), ('a', 'DT'), ('survival', 'NN'), (',', ','), ('safety', 'NN'), (',', ','), ('aesthetic', 'JJ'), (',', ','), ('or', 'CC'), ('humanitarian', 'JJ'), ('purpose', 'NN'), ('.', '.')], senses=('SERVE2',))\n",
            "True: SERVE2, Predicted: SERVE10\n",
            "SensevalInstance(word='serve-v', position=51, context=[('ordinarily', 'RB'), ('he', 'PRP'), ('wore', 'VBD'), ('an', 'DT'), ('old', 'JJ'), ('coat', 'NN'), (',', ','), ('a', 'DT'), ('shabby', 'JJ'), ('waistcoat', 'NN'), (',', ','), ('the', 'DT'), ('ugly', 'JJ'), (',', ','), ('black', 'JJ'), (',', ','), ('crumpled', 'JJ'), ('ill-tied', 'JJ'), ('cravat', 'NN'), ('of', 'IN'), ('a', 'DT'), ('student', 'NN'), (',', ','), ('trousers', 'NNS'), ('to', 'TO'), ('match', 'VB'), (',', ','), ('and', 'CC'), ('resoled', 'VBD'), ('boots', 'NNS'), ('.', '.'), ('between', 'IN'), ('these', 'DT'), ('two', 'CD'), ('persons', 'NNS'), ('and', 'CC'), ('the', 'DT'), ('others', 'NNS'), (',', ','), ('vautrin', 'NNP'), (',', ','), ('who', 'WP'), ('was', 'VBD'), ('forty', 'CD'), ('years', 'NNS'), ('old', 'JJ'), (',', ','), ('with', 'IN'), ('dyed', 'VBN'), ('whiskers', 'NNS'), (',', ','), ('served', 'VBD'), ('as', 'IN'), ('a', 'DT'), ('transition', 'NN'), ('.', '.')], senses=('SERVE2',))\n",
            "True: SERVE2, Predicted: SERVE12\n",
            "SensevalInstance(word='serve-v', position=38, context=[('life', 'NNP'), ('improved', 'VBD'), (',', ','), ('even', 'RB'), ('in', 'IN'), ('calabria', 'NNP'), (',', ','), ('a', 'DT'), ('region', 'NN'), ('so', 'RB'), ('poor', 'JJ'), ('and', 'CC'), ('underdeveloped', 'JJ'), ('that', 'IN'), ('some', 'DT'), ('call', 'NN'), ('it', 'PRP'), ('\"', '\"'), ('the', 'DT'), ('mezzogiorno', 'NNP'), ('of', 'IN'), ('the', 'DT'), ('mezzogiorno', 'NNP'), ('.', '.'), ('\"', '\"'), ('starvation', 'NNP'), ('and', 'CC'), ('malaria', 'NN'), ('are', 'VBP'), ('gone', 'VBN'), (';', ':'), ('illiteracy', 'NN'), ('is', 'VBZ'), ('rare', 'JJ'), (';', ':'), ('a', 'DT'), ('new', 'JJ'), ('university', 'NN'), ('serves', 'VBZ'), ('the', 'DT'), ('population', 'NN'), (';', ':'), ('an', 'DT'), ('autostrada', 'NN'), ('now', 'RB'), ('links', 'VBZ'), ('rome', 'NNP'), ('and', 'CC'), ('naples', 'NNP'), ('with', 'IN'), ('calabria', 'NNP'), (\"'s\", 'POS'), ('biggest', 'JJS'), ('cities', 'NNS'), ('.', '.')], senses=('SERVE6',))\n",
            "True: SERVE6, Predicted: SERVE12\n",
            "SensevalInstance(word='serve-v', position=44, context=[('mr', 'NNP'), ('.', '.'), ('iacocca', 'NNP'), ('will', 'MD'), ('chair', 'VB'), ('the', 'DT'), ('institute', 'NN'), (\"'s\", 'POS'), ('advisory', 'JJ'), ('board', 'NN'), ('once', 'RB'), ('the', 'DT'), ('institute', 'NN'), ('is', 'VBZ'), ('established', 'VBN'), ('.', '.'), ('lehigh', 'NNP'), ('said', 'VBD'), ('the', 'DT'), ('institute', 'NN'), ('will', 'MD'), ('study', 'VB'), ('america', 'NNP'), (\"'s\", 'POS'), ('competitiveness', 'NN'), (';', ':'), ('conduct', 'NN'), ('research', 'NN'), ('on', 'IN'), ('productivity', 'NN'), ('and', 'CC'), ('the', 'DT'), ('political', 'JJ'), ('and', 'CC'), ('economic', 'JJ'), ('environment', 'NN'), ('in', 'IN'), ('which', 'WDT'), ('american', 'JJ'), ('industry', 'NN'), ('operates', 'VBZ'), (',', ','), ('and', 'CC'), ('\"', '\"'), ('serve', 'VB'), ('as', 'IN'), ('a', 'DT'), ('clearinghouse', 'NN'), ('for', 'IN'), ('studies', 'NNS'), ('of', 'IN'), ('industrial', 'JJ'), ('problems', 'NNS'), ('and', 'CC'), ('policies', 'NNS'), ('.', '.'), ('\"', '\"')], senses=('SERVE2',))\n",
            "True: SERVE2, Predicted: SERVE12\n",
            "SensevalInstance(word='serve-v', position=86, context=[('american', 'JJ'), ('diplomats', 'NNS'), ('say', 'VBP'), ('china', 'NNP'), (\"'s\", 'POS'), ('increasing', 'VBG'), ('criticism', 'NN'), ('of', 'IN'), ('u', 'NNP'), ('.', '.'), ('s', 'NNP'), ('.', '.'), ('foreign', 'JJ'), ('policy', 'NN'), ('and', 'CC'), ('growing', 'VBG'), ('receptiveness', 'NN'), ('to', 'TO'), ('soviet', 'JJ'), ('overtures', 'NNS'), ('are', 'VBP'), ('part', 'NN'), ('of', 'IN'), ('peking', 'NNP'), (\"'s\", 'POS'), ('efforts', 'NNS'), ('to', 'TO'), ('find', 'VB'), ('middle', 'NN'), ('ground', 'NN'), ('where', 'WRB'), ('it', 'PRP'), ('can', 'MD'), ('best', 'JJS'), ('manipulate', 'VB'), ('the', 'DT'), ('three-way', 'JJ'), ('relationship', 'NN'), ('.', '.'), ('one', 'CD'), ('senior', 'JJ'), ('british', 'JJ'), ('diplomat', 'NN'), ('says', 'VBZ'), ('the', 'DT'), ('chinese', 'JJ'), ('are', 'VBP'), ('turning', 'VBG'), ('the', 'DT'), ('strategic', 'JJ'), ('triangle', 'NN'), ('into', 'IN'), ('a', 'DT'), ('seesaw', 'NN'), (':', ':'), ('the', 'DT'), ('feuding', 'VBG'), ('superpowers', 'NNS'), ('sit', 'VBP'), ('at', 'IN'), ('the', 'DT'), ('ends', 'NNS'), ('and', 'CC'), ('china', 'NNP'), ('stands', 'VBZ'), ('in', 'IN'), ('the', 'DT'), ('middle', 'NN'), (',', ','), ('manipulating', 'VBG'), ('the', 'DT'), ('balance', 'NN'), ('by', 'IN'), ('moving', 'VBG'), ('closer', 'JJR'), ('to', 'TO'), ('one', 'CD'), ('side', 'NN'), ('or', 'CC'), ('the', 'DT'), ('other', 'NN'), (',', ','), ('depending', 'VBG'), ('on', 'IN'), ('what', 'WP'), ('course', 'NN'), ('serves', 'VBZ'), ('it', 'PRP'), ('best', 'JJS'), ('at', 'IN'), ('the', 'DT'), ('moment', 'NN'), ('.', '.')], senses=('SERVE2',))\n",
            "True: SERVE2, Predicted: SERVE10\n",
            "SensevalInstance(word='serve-v', position=30, context=[('when', 'WRB'), ('he', 'PRP'), ('lands', 'VBZ'), (',', ','), ('i', 'PRP'), (\"'m\", 'VBP'), ('going', 'VBG'), ('to', 'TO'), ('present', 'VB'), ('him', 'PRP'), ('with', 'IN'), ('a', 'DT'), ('typed', 'VBN'), ('and', 'CC'), ('bound', 'VBN'), ('thesis', 'NN'), (',', ','), ('methods', 'NNS'), ('of', 'IN'), ('pollination', 'NNP'), ('used', 'VBN'), ('by', 'IN'), ('the', 'DT'), ('orchids', 'NNS'), ('of', 'IN'), ('flora', 'NNP'), ('.', '.'), ('my', 'PRP$'), ('thesis', 'NN'), ('will', 'MD'), ('serve', 'VB'), ('two', 'CD'), ('purposes', 'NNS'), ('to', 'TO'), ('restore', 'VB'), ('his', 'PRP$'), ('sanity', 'NN'), ('and', 'CC'), ('to', 'TO'), ('show', 'VB'), ('him', 'PRP'), ('who', 'WP'), (\"'s\", 'VBZ'), ('the', 'DT'), ('boss', 'NN'), ('.', '.')], senses=('SERVE2',))\n",
            "True: SERVE2, Predicted: SERVE12\n",
            "SensevalInstance(word='serve-v', position=31, context=[('and', 'CC'), ('a', 'DT'), ('very', 'RB'), ('rewarding', 'JJ'), ('part', 'NN'), ('of', 'IN'), ('homemaking', 'VBG'), ('is', 'VBZ'), ('planning', 'VBG'), ('the', 'DT'), ('right', 'NN'), ('foods', 'NNS'), ('for', 'IN'), ('a', 'DT'), ('family', 'NN'), ('.', '.'), ('for', 'IN'), ('february', 'NNP'), ('i', 'PRP'), ('have', 'VBP'), ('chosen', 'VBN'), ('some', 'DT'), ('easy', 'JJ'), ('and', 'CC'), ('inexpensive', 'JJ'), ('recipes', 'NNS'), ('which', 'WDT'), ('my', 'PRP$'), ('mormor', 'NNP'), ('might', 'MD'), ('have', 'VB'), ('served', 'VBD'), ('.', '.')], senses=('SERVE10',))\n",
            "True: SERVE10, Predicted: SERVE2\n",
            "SensevalInstance(word='serve-v', position=37, context=[('dave', 'NNP'), ('ellis', 'NNP'), ('moved', 'VBD'), ('over', 'IN'), ('to', 'TO'), ('join', 'VB'), ('ted', 'NNP'), ('callison', 'NNP'), (',', ','), ('chet', 'NNP'), (',', ','), ('and', 'CC'), ('roy', 'NNP'), ('veeder', 'NNP'), ('in', 'IN'), ('the', 'DT'), ('other', 'JJ'), ('sled', 'VBN'), ('.', '.'), ('kennart', 'NNP'), ('had', 'VBD'), ('brought', 'VBN'), ('provisions', 'NNS'), ('with', 'IN'), ('him', 'PRP'), (':', ':'), ('bundles', 'NNS'), ('of', 'IN'), ('dried', 'VBN'), ('meat', 'NN'), (',', ','), ('of', 'IN'), ('the', 'DT'), ('sort', 'NN'), ('that', 'WDT'), ('had', 'VBD'), ('been', 'VBN'), ('served', 'VBD'), ('at', 'IN'), ('the', 'DT'), ('banquet', 'NN'), ('.', '.'), ('it', 'PRP'), ('was', 'VBD'), ('not', 'RB'), ('that', 'IN'), ('he', 'PRP'), ('had', 'VBD'), ('any', 'DT'), ('prejudice', 'NN'), ('against', 'IN'), ('the', 'DT'), ('food', 'NN'), ('the', 'DT'), ('new', 'NNP'), ('yorkers', 'NNPS'), ('would', 'MD'), ('serve', 'VB'), ('him', 'PRP'), (';', ':'), ('he', 'PRP'), ('simply', 'RB'), ('preferred', 'JJ'), ('his', 'PRP$'), ('own', 'JJ'), ('.', '.')], senses=('SERVE10',))\n",
            "True: SERVE10, Predicted: SERVE12\n"
          ]
        }
      ]
    }
  ]
}