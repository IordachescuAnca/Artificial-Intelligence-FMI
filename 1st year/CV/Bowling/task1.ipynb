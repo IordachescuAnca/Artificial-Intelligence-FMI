{
 "cells": [
  {
   "cell_type": "code",
   "execution_count": 1,
   "metadata": {
    "collapsed": true
   },
   "outputs": [],
   "source": [
    "import matplotlib.pyplot as plt\n",
    "import numpy as np\n",
    "import cv2 as cv\n",
    "import os\n"
   ]
  },
  {
   "cell_type": "code",
   "execution_count": 2,
   "outputs": [],
   "source": [
    "#the folder that contains the planes\n",
    "base = 'train/Task1/full-configurations-templates'\n",
    "\n",
    "#created 3 vectors that contains the coordinates for each bowling pin by giving a bounding bow for the red part\n",
    "coordinates_t1 = [[622, 314, 66, 70], [497, 205, 63, 61], [762, 206, 55, 60],\n",
    "                  [426, 138, 53, 50], [639, 140, 48, 49], [855, 139, 46, 51],\n",
    "                  [374, 93, 41, 42], [556, 91, 39, 44], [739, 91, 40, 45],\n",
    "                  [927, 91, 39, 45]]\n",
    "\n",
    "coordinates_t2 = [[590, 311, 66, 70], [472, 210, 52, 55], [724, 209, 53, 54],\n",
    "                  [391, 143, 49, 47], [600, 144, 48, 46], [805, 142, 44, 47],\n",
    "                  [339, 98, 42, 40], [517, 98, 38, 40], [691, 96, 37, 44], [865, 98, 38, 42]]\n",
    "\n",
    "coordinates_t3 = [[601, 314, 64, 68], [470, 201, 58, 55], [745, 206, 50, 54],\n",
    "                  [399, 135, 42, 45], [613, 132, 44, 47], [831, 134, 43, 48],\n",
    "                  [339, 86, 40, 42], [524, 81, 40, 45], [711, 78, 34, 48],\n",
    "                  [895, 83, 35, 46]]"
   ],
   "metadata": {
    "collapsed": false,
    "pycharm": {
     "name": "#%%\n"
    }
   }
  },
  {
   "cell_type": "code",
   "execution_count": 3,
   "outputs": [],
   "source": [
    "\n",
    "#detect if the image is on the plane based on the color channels of a part of a image(the table)\n",
    "def get_lane(t1, t2, t3, img):\n",
    "    #crop a part of table and compute mean for each color channel\n",
    "    dist = []\n",
    "    t1 = t1[600:, 300:-300]\n",
    "    mean_t1 = np.mean(t1, axis=(0,1))\n",
    "    t2 = t2[600:, 300:-300]\n",
    "    mean_t2 = np.mean(t2, axis=(0, 1))\n",
    "    t3 = t3[600:, 300:-300]\n",
    "    mean_t3 = np.mean(t3, axis=(0, 1))\n",
    "    img = img[600:, 300:-300]\n",
    "    mean_img = np.mean(img, axis=(0, 1))\n",
    "\n",
    "    dist.append(np.sum((mean_t1 - mean_img) ** 2))\n",
    "    dist.append(np.sum((mean_t2 - mean_img) ** 2))\n",
    "    dist.append(np.sum((mean_t3 - mean_img) ** 2))\n",
    "\n",
    "    return np.argmax(np.array(dist))"
   ],
   "metadata": {
    "collapsed": false,
    "pycharm": {
     "name": "#%%\n"
    }
   }
  },
  {
   "cell_type": "code",
   "execution_count": 4,
   "outputs": [],
   "source": [
    "#detect if a photo is on lane 1 or 3 by comparing the down-right corner of the image with lane 1 and lane 2 using L2 norm\n",
    "def get_lane_1_3(t1, t3, img):\n",
    "    #crop the right down corner\n",
    "    img_t1 = t1[600:-50,-400:]\n",
    "    img_t3 = t3[600:-50,-400:]\n",
    "    img = img[600:-50,-400:]\n",
    "\n",
    "    #calculate error and similarity for lane1\n",
    "    errorL2_t1 = cv.norm(img_t1, img, cv.NORM_L2)\n",
    "    similarity_1 = 1 - errorL2_t1 / (120 * 400)\n",
    "    #calculate error and similarity for lane3\n",
    "    errorL2_t3 = cv.norm(img_t3, img, cv.NORM_L2)\n",
    "    similarity_3 = 1 - errorL2_t3 / (120 * 400)\n",
    "    if similarity_1 >= similarity_3:\n",
    "        return 1\n",
    "    else:\n",
    "        return 3"
   ],
   "metadata": {
    "collapsed": false,
    "pycharm": {
     "name": "#%%\n"
    }
   }
  },
  {
   "cell_type": "code",
   "execution_count": 5,
   "outputs": [],
   "source": [
    "#read the lanes and set the paths\n",
    "t1 = base + '/' + 'lane1.jpg'\n",
    "img_t1 = cv.imread(t1)\n",
    "\n",
    "t2 = base + '/' + 'lane2.jpg'\n",
    "img_t2 = cv.imread(t2)\n",
    "\n",
    "t3 = base + '/' + 'lane3.jpg'\n",
    "img_t3 = cv.imread(t3)\n",
    "\n",
    "base_folder_images = 'train/Task1'\n",
    "\n",
    "output = []\n",
    "\n",
    "test_folder_images = '../test/Task1'\n"
   ],
   "metadata": {
    "collapsed": false,
    "pycharm": {
     "name": "#%%\n"
    }
   }
  },
  {
   "cell_type": "code",
   "execution_count": 6,
   "outputs": [],
   "source": [
    "#iterate through images\n",
    "#get the lane for each image\n",
    "#use hsv in order to get only the red patches\n",
    "#once got the lane, iterate through the coordinates listed above\n",
    "#check if in the bounding boxes that are constructed using the coordinates above there is a red path\n",
    "#compute the largest contour that contains red\n",
    "#check if the area of red/area of the bounding box created by coordinates is greater than 0.4\n",
    "#if yes, there is a pin in that position\n",
    "for fname in os.listdir(test_folder_images):\n",
    "    complete_filename = test_folder_images + '/' + fname\n",
    "    if complete_filename[-4:] == '.jpg':\n",
    "        #get the photo and the lane of the photo\n",
    "        img = cv.imread(complete_filename)\n",
    "        lane = get_lane(img_t1, img_t2, img_t3, img)\n",
    "        if lane == 2:\n",
    "            #extract the red regions\n",
    "            hsv = cv.cvtColor(img, cv.COLOR_BGR2HSV)\n",
    "\n",
    "            hsv_low = np.array([0, 150, 61], np.uint8)\n",
    "            hsv_high = np.array([179, 255, 255], np.uint8)\n",
    "            #create mask based on hsv colors\n",
    "            mask = cv.inRange(hsv, hsv_low, hsv_high)\n",
    "            res = cv.bitwise_and(img, img, mask=mask)\n",
    "            #use kernal and dilation to smooth the mask\n",
    "            kernel = np.ones((2, 2), np.uint8)\n",
    "            dilation = cv.dilate(mask, kernel, iterations=2)\n",
    "\n",
    "            popici = 0\n",
    "            popici_pozitii = []\n",
    "            #iterate through coordinates\n",
    "            for i, coordinate in enumerate(coordinates_t2):\n",
    "                #get patches where it might be a pin\n",
    "                crop = dilation[coordinate[1]:coordinate[1] + coordinate[3],\n",
    "                       coordinate[0]:coordinate[0] + coordinate[2]]\n",
    "                #get contours\n",
    "                contours, hierarchy = cv.findContours(crop, cv.RETR_EXTERNAL, cv.CHAIN_APPROX_NONE)\n",
    "                if len(contours) > 0:\n",
    "                    #if we get a contour and the ration between contour and the patch area is bigger than 0.4, there is a pin\n",
    "                    c = max(contours, key=cv.contourArea)\n",
    "                    x, y, w, h = cv.boundingRect(c)\n",
    "                    if (w * h) / (crop.shape[0] * crop.shape[1]) > 0.4:\n",
    "                        #count pin and add position\n",
    "                        popici += 1\n",
    "                        popici_pozitii.append(i)\n",
    "                        #plt.imshow(crop)\n",
    "                        #plt.show()\n",
    "            #print(2, complete_filename, popici, popici_pozitii)\n",
    "            output.append([fname, popici, popici_pozitii])\n",
    "        else:\n",
    "            #extract the red regions\n",
    "            hsv = cv.cvtColor(img, cv.COLOR_BGR2HSV)\n",
    "            #create mask based on hsv colors\n",
    "            hsv_low = np.array([160, 100, 20], np.uint8)\n",
    "            hsv_high = np.array([179, 255, 255], np.uint8)\n",
    "\n",
    "            mask = cv.inRange(hsv, hsv_low, hsv_high)\n",
    "            res = cv.bitwise_and(img, img, mask=mask)\n",
    "            #use kernal and dilation to smooth the mask\n",
    "            kernel = np.ones((2, 2), np.uint8)\n",
    "            dilation = cv.dilate(mask, kernel, iterations=2)\n",
    "\n",
    "\n",
    "\n",
    "            if get_lane_1_3(img_t1, img_t3, img) == 1:\n",
    "                popici = 0\n",
    "                popici_pozitii = []\n",
    "                for i, coordinate in enumerate(coordinates_t1):\n",
    "                    #iterate through coordinates\n",
    "                    #get patches where it might be a pin\n",
    "\n",
    "                    crop = dilation[coordinate[1]:coordinate[1] + coordinate[3],\n",
    "                           coordinate[0]:coordinate[0] + coordinate[2]]\n",
    "                    contours, hierarchy = cv.findContours(crop, cv.RETR_EXTERNAL, cv.CHAIN_APPROX_NONE)\n",
    "                    if len(contours) > 0:\n",
    "                    #if we get a contour and the ration between contour and the patch area is bigger than 0.4, there is a pin\n",
    "\n",
    "                        c = max(contours, key=cv.contourArea)\n",
    "                        x, y, w, h = cv.boundingRect(c)\n",
    "                        if (w * h) / (crop.shape[0] * crop.shape[1]) > 0.4:\n",
    "                            popici += 1\n",
    "                            popici_pozitii.append(i)\n",
    "                            # plt.imshow(crop)\n",
    "                            # plt.show()\n",
    "                #print(1, complete_filename, popici, popici_pozitii)\n",
    "                output.append([fname, popici, popici_pozitii])\n",
    "            else:\n",
    "                popici = 0\n",
    "                popici_pozitii = []\n",
    "                for i, coordinate in enumerate(coordinates_t3):\n",
    "                #iterate through coordinates\n",
    "                #get patches where it might be a pin\n",
    "                    crop = dilation[coordinate[1]:coordinate[1] + coordinate[3],\n",
    "                           coordinate[0]:coordinate[0] + coordinate[2]]\n",
    "                    contours, hierarchy = cv.findContours(crop, cv.RETR_EXTERNAL, cv.CHAIN_APPROX_NONE)\n",
    "                    if len(contours) > 0:\n",
    "                        #if we get a contour and the ration between contour and the patch area is bigger than 0.4, there is a pin\n",
    "                        c = max(contours, key=cv.contourArea)\n",
    "                        x, y, w, h = cv.boundingRect(c)\n",
    "                        if (w * h) / (crop.shape[0] * crop.shape[1]) > 0.4:\n",
    "                            popici += 1\n",
    "                            popici_pozitii.append(i)\n",
    "                            # plt.imshow(crop)\n",
    "                            # plt.show()\n",
    "                #print(3, complete_filename, popici, popici_pozitii)\n",
    "                output.append([fname, popici, popici_pozitii])\n",
    "\n"
   ],
   "metadata": {
    "collapsed": false,
    "pycharm": {
     "name": "#%%\n"
    }
   }
  },
  {
   "cell_type": "code",
   "execution_count": 7,
   "outputs": [],
   "source": [
    "os.mkdir('../submission_files/Task1')\n",
    "base = '../submission_files/Task1'\n",
    "for line in output:\n",
    "    #get file name, number of pins and the positions\n",
    "    file = line[0]\n",
    "    number = line[1]\n",
    "    positions = line[2]\n",
    "    #create the predicted file and add the output\n",
    "    file_name = base + '/' + file[:-4] + '_predicted.txt'\n",
    "    popice_pos = \"\"\n",
    "    for i in range(number):\n",
    "        popice_pos = popice_pos + str(positions[i]+1) + '\\n'\n",
    "\n",
    "    f = open(file_name, \"w\")\n",
    "    if number == 0:\n",
    "        #if there is no pins, add only the number=0\n",
    "        f.write('0')\n",
    "    else:\n",
    "        #else add also the positions of pins\n",
    "        f.write(str(number) + '\\n' + popice_pos)\n",
    "\n",
    "    f.close()"
   ],
   "metadata": {
    "collapsed": false,
    "pycharm": {
     "name": "#%%\n"
    }
   }
  }
 ],
 "metadata": {
  "kernelspec": {
   "display_name": "Python 3",
   "language": "python",
   "name": "python3"
  },
  "language_info": {
   "codemirror_mode": {
    "name": "ipython",
    "version": 2
   },
   "file_extension": ".py",
   "mimetype": "text/x-python",
   "name": "python",
   "nbconvert_exporter": "python",
   "pygments_lexer": "ipython2",
   "version": "2.7.6"
  }
 },
 "nbformat": 4,
 "nbformat_minor": 0
}